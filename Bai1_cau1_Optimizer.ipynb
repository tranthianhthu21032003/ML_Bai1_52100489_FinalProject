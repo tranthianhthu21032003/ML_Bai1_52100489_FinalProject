{
  "cells": [
    {
      "cell_type": "code",
      "execution_count": null,
      "metadata": {
        "id": "vdIEbTN9JzZg"
      },
      "outputs": [],
      "source": [
        "import matplotlib.pyplot as plt\n",
        "import seaborn as sns\n",
        "import numpy as np\n",
        "from sklearn.metrics import confusion_matrix"
      ]
    },
    {
      "cell_type": "code",
      "execution_count": null,
      "metadata": {
        "colab": {
          "base_uri": "https://localhost:8080/"
        },
        "id": "fQqsu89VJ3EN",
        "outputId": "cc68b216-80c2-44a2-a951-745e806c8170"
      },
      "outputs": [
        {
          "name": "stdout",
          "output_type": "stream",
          "text": [
            "Downloading data from https://storage.googleapis.com/tensorflow/tf-keras-datasets/mnist.npz\n",
            "11493376/11490434 [==============================] - 0s 0us/step\n",
            "x_train [[  0   0   0   0   0   0   0   0   0   0   0   0   0   0   0   0   0   0\n",
            "    0   0   0   0   0   0   0   0   0   0]\n",
            " [  0   0   0   0   0   0   0   0   0   0   0   0   0   0   0   0   0   0\n",
            "    0   0   0   0   0   0   0   0   0   0]\n",
            " [  0   0   0   0   0   0   0   0   0   0   0   0   0   0   0   0   0   0\n",
            "    0   0   0   0   0   0   0   0   0   0]\n",
            " [  0   0   0   0   0   0   0   0   0   0   0   0   0   0   0   0   0   0\n",
            "    0   0   0   0   0   0   0   0   0   0]\n",
            " [  0   0   0   0   0   0   0   0   0   0   0   0   0   0   0   0   0   0\n",
            "    0   0   0   0   0   0   0   0   0   0]\n",
            " [  0   0   0   0   0   0   0   0   0   0   0   0   3  18  18  18 126 136\n",
            "  175  26 166 255 247 127   0   0   0   0]\n",
            " [  0   0   0   0   0   0   0   0  30  36  94 154 170 253 253 253 253 253\n",
            "  225 172 253 242 195  64   0   0   0   0]\n",
            " [  0   0   0   0   0   0   0  49 238 253 253 253 253 253 253 253 253 251\n",
            "   93  82  82  56  39   0   0   0   0   0]\n",
            " [  0   0   0   0   0   0   0  18 219 253 253 253 253 253 198 182 247 241\n",
            "    0   0   0   0   0   0   0   0   0   0]\n",
            " [  0   0   0   0   0   0   0   0  80 156 107 253 253 205  11   0  43 154\n",
            "    0   0   0   0   0   0   0   0   0   0]\n",
            " [  0   0   0   0   0   0   0   0   0  14   1 154 253  90   0   0   0   0\n",
            "    0   0   0   0   0   0   0   0   0   0]\n",
            " [  0   0   0   0   0   0   0   0   0   0   0 139 253 190   2   0   0   0\n",
            "    0   0   0   0   0   0   0   0   0   0]\n",
            " [  0   0   0   0   0   0   0   0   0   0   0  11 190 253  70   0   0   0\n",
            "    0   0   0   0   0   0   0   0   0   0]\n",
            " [  0   0   0   0   0   0   0   0   0   0   0   0  35 241 225 160 108   1\n",
            "    0   0   0   0   0   0   0   0   0   0]\n",
            " [  0   0   0   0   0   0   0   0   0   0   0   0   0  81 240 253 253 119\n",
            "   25   0   0   0   0   0   0   0   0   0]\n",
            " [  0   0   0   0   0   0   0   0   0   0   0   0   0   0  45 186 253 253\n",
            "  150  27   0   0   0   0   0   0   0   0]\n",
            " [  0   0   0   0   0   0   0   0   0   0   0   0   0   0   0  16  93 252\n",
            "  253 187   0   0   0   0   0   0   0   0]\n",
            " [  0   0   0   0   0   0   0   0   0   0   0   0   0   0   0   0   0 249\n",
            "  253 249  64   0   0   0   0   0   0   0]\n",
            " [  0   0   0   0   0   0   0   0   0   0   0   0   0   0  46 130 183 253\n",
            "  253 207   2   0   0   0   0   0   0   0]\n",
            " [  0   0   0   0   0   0   0   0   0   0   0   0  39 148 229 253 253 253\n",
            "  250 182   0   0   0   0   0   0   0   0]\n",
            " [  0   0   0   0   0   0   0   0   0   0  24 114 221 253 253 253 253 201\n",
            "   78   0   0   0   0   0   0   0   0   0]\n",
            " [  0   0   0   0   0   0   0   0  23  66 213 253 253 253 253 198  81   2\n",
            "    0   0   0   0   0   0   0   0   0   0]\n",
            " [  0   0   0   0   0   0  18 171 219 253 253 253 253 195  80   9   0   0\n",
            "    0   0   0   0   0   0   0   0   0   0]\n",
            " [  0   0   0   0  55 172 226 253 253 253 253 244 133  11   0   0   0   0\n",
            "    0   0   0   0   0   0   0   0   0   0]\n",
            " [  0   0   0   0 136 253 253 253 212 135 132  16   0   0   0   0   0   0\n",
            "    0   0   0   0   0   0   0   0   0   0]\n",
            " [  0   0   0   0   0   0   0   0   0   0   0   0   0   0   0   0   0   0\n",
            "    0   0   0   0   0   0   0   0   0   0]\n",
            " [  0   0   0   0   0   0   0   0   0   0   0   0   0   0   0   0   0   0\n",
            "    0   0   0   0   0   0   0   0   0   0]\n",
            " [  0   0   0   0   0   0   0   0   0   0   0   0   0   0   0   0   0   0\n",
            "    0   0   0   0   0   0   0   0   0   0]]\n",
            "y_train 5\n",
            "x_train (60000, 28, 28)\n",
            "y_train (60000,)\n"
          ]
        }
      ],
      "source": [
        "import keras\n",
        "from keras.datasets import mnist\n",
        "from keras.layers import *\n",
        "from keras.models import Sequential\n",
        "import random\n",
        "\n",
        "(x_tr,y_tr),(x_te,y_te)=mnist.load_data()\n",
        "x_tr_drawing=x_tr\n",
        "print(\"x_train\",x_tr[0])\n",
        "print(\"y_train\",y_tr[0])\n",
        "print(\"x_train\",x_tr.shape)\n",
        "print(\"y_train\",y_tr.shape)\n"
      ]
    },
    {
      "cell_type": "code",
      "execution_count": null,
      "metadata": {
        "colab": {
          "base_uri": "https://localhost:8080/"
        },
        "id": "pKHCckjZJ4xc",
        "outputId": "02584c5c-7300-4e19-f70e-4c34131f21f5"
      },
      "outputs": [
        {
          "name": "stdout",
          "output_type": "stream",
          "text": [
            "x matrix after reshaping\n",
            "x train shape (60000, 784)\n",
            "x test shape (10000, 784)\n",
            "y after reshape\n",
            "y train shape (60000, 10)\n",
            "y test shape (10000, 10)\n"
          ]
        }
      ],
      "source": [
        "image_size=784#28 X28\n",
        "x_tr=x_tr.reshape(x_tr.shape[0],image_size)\n",
        "x_te=x_te.reshape(x_te.shape[0],image_size)\n",
        "print(\"x matrix after reshaping\")\n",
        "print(\"x train shape\",x_tr.shape)\n",
        "print(\"x test shape\",x_te.shape)\n",
        "\n",
        "num_classes=10\n",
        "y_tr=keras.utils.to_categorical(y_tr,num_classes)\n",
        "y_te=keras.utils.to_categorical(y_te,num_classes)\n",
        "\n",
        "print(\"y after reshape\")\n",
        "print(\"y train shape\",y_tr.shape)\n",
        "print(\"y test shape\",y_te.shape)\n"
      ]
    },
    {
      "cell_type": "markdown",
      "metadata": {
        "id": "zw-Jq13cOBsk"
      },
      "source": [
        "# Stochastic gradient decent"
      ]
    },
    {
      "cell_type": "code",
      "execution_count": null,
      "metadata": {
        "colab": {
          "base_uri": "https://localhost:8080/"
        },
        "id": "C2mCyE-5L1Jk",
        "outputId": "5cfae707-8b07-464f-8800-83271c1c8328"
      },
      "outputs": [
        {
          "name": "stdout",
          "output_type": "stream",
          "text": [
            "Model: \"sequential\"\n",
            "_________________________________________________________________\n",
            "Layer (type)                 Output Shape              Param #   \n",
            "=================================================================\n",
            "dense (Dense)                (None, 2048)              1607680   \n",
            "_________________________________________________________________\n",
            "dense_1 (Dense)              (None, 10)                20490     \n",
            "=================================================================\n",
            "Total params: 1,628,170\n",
            "Trainable params: 1,628,170\n",
            "Non-trainable params: 0\n",
            "_________________________________________________________________\n"
          ]
        }
      ],
      "source": [
        "model=Sequential()\n",
        "model.add(Dense(units=2048,activation='sigmoid',input_shape=(image_size,)))\n",
        "model.add(Dense(units=10,activation='softmax'))\n",
        "\n",
        "model.summary()"
      ]
    },
    {
      "cell_type": "code",
      "execution_count": null,
      "metadata": {
        "colab": {
          "base_uri": "https://localhost:8080/"
        },
        "id": "roemImhPMC1N",
        "outputId": "c5507b38-d616-49d9-bed5-7c9036605838"
      },
      "outputs": [
        {
          "name": "stdout",
          "output_type": "stream",
          "text": [
            "Epoch 1/100\n",
            "422/422 [==============================] - 3s 3ms/step - loss: 0.7974 - accuracy: 0.7802 - val_loss: 0.2500 - val_accuracy: 0.9375\n",
            "Epoch 2/100\n",
            "422/422 [==============================] - 1s 3ms/step - loss: 0.2697 - accuracy: 0.9283 - val_loss: 0.2014 - val_accuracy: 0.9483\n",
            "Epoch 3/100\n",
            "422/422 [==============================] - 1s 3ms/step - loss: 0.2144 - accuracy: 0.9439 - val_loss: 0.1767 - val_accuracy: 0.9525\n",
            "Epoch 4/100\n",
            "422/422 [==============================] - 1s 3ms/step - loss: 0.1724 - accuracy: 0.9561 - val_loss: 0.1619 - val_accuracy: 0.9580\n",
            "Epoch 5/100\n",
            "422/422 [==============================] - 1s 3ms/step - loss: 0.1476 - accuracy: 0.9636 - val_loss: 0.1507 - val_accuracy: 0.9598\n",
            "Epoch 6/100\n",
            "422/422 [==============================] - 1s 3ms/step - loss: 0.1293 - accuracy: 0.9693 - val_loss: 0.1415 - val_accuracy: 0.9608\n",
            "Epoch 7/100\n",
            "422/422 [==============================] - 1s 3ms/step - loss: 0.1131 - accuracy: 0.9752 - val_loss: 0.1352 - val_accuracy: 0.9618\n",
            "Epoch 8/100\n",
            "422/422 [==============================] - 1s 2ms/step - loss: 0.0991 - accuracy: 0.9792 - val_loss: 0.1300 - val_accuracy: 0.9647\n",
            "Epoch 9/100\n",
            "422/422 [==============================] - 1s 2ms/step - loss: 0.0866 - accuracy: 0.9829 - val_loss: 0.1277 - val_accuracy: 0.9655\n",
            "Epoch 10/100\n",
            "422/422 [==============================] - 1s 3ms/step - loss: 0.0795 - accuracy: 0.9853 - val_loss: 0.1232 - val_accuracy: 0.9657\n",
            "Epoch 11/100\n",
            "422/422 [==============================] - 1s 2ms/step - loss: 0.0671 - accuracy: 0.9888 - val_loss: 0.1213 - val_accuracy: 0.9665\n",
            "Epoch 12/100\n",
            "422/422 [==============================] - 1s 3ms/step - loss: 0.0604 - accuracy: 0.9908 - val_loss: 0.1191 - val_accuracy: 0.9673\n",
            "Epoch 13/100\n",
            "422/422 [==============================] - 1s 3ms/step - loss: 0.0554 - accuracy: 0.9920 - val_loss: 0.1164 - val_accuracy: 0.9673\n",
            "Epoch 14/100\n",
            "422/422 [==============================] - 1s 3ms/step - loss: 0.0507 - accuracy: 0.9928 - val_loss: 0.1141 - val_accuracy: 0.9682\n",
            "Epoch 15/100\n",
            "422/422 [==============================] - 1s 2ms/step - loss: 0.0475 - accuracy: 0.9937 - val_loss: 0.1143 - val_accuracy: 0.9670\n",
            "Epoch 16/100\n",
            "422/422 [==============================] - 1s 3ms/step - loss: 0.0426 - accuracy: 0.9951 - val_loss: 0.1122 - val_accuracy: 0.9682\n",
            "Epoch 17/100\n",
            "422/422 [==============================] - 1s 3ms/step - loss: 0.0406 - accuracy: 0.9945 - val_loss: 0.1116 - val_accuracy: 0.9692\n",
            "Epoch 18/100\n",
            "422/422 [==============================] - 1s 3ms/step - loss: 0.0365 - accuracy: 0.9958 - val_loss: 0.1100 - val_accuracy: 0.9695\n",
            "Epoch 19/100\n",
            "422/422 [==============================] - 1s 3ms/step - loss: 0.0343 - accuracy: 0.9963 - val_loss: 0.1090 - val_accuracy: 0.9688\n",
            "Epoch 20/100\n",
            "422/422 [==============================] - 1s 3ms/step - loss: 0.0319 - accuracy: 0.9965 - val_loss: 0.1080 - val_accuracy: 0.9700\n",
            "Epoch 21/100\n",
            "422/422 [==============================] - 1s 3ms/step - loss: 0.0299 - accuracy: 0.9969 - val_loss: 0.1080 - val_accuracy: 0.9690\n",
            "Epoch 22/100\n",
            "422/422 [==============================] - 1s 2ms/step - loss: 0.0285 - accuracy: 0.9974 - val_loss: 0.1075 - val_accuracy: 0.9698\n",
            "Epoch 23/100\n",
            "422/422 [==============================] - 1s 3ms/step - loss: 0.0272 - accuracy: 0.9973 - val_loss: 0.1068 - val_accuracy: 0.9700\n",
            "Epoch 24/100\n",
            "422/422 [==============================] - 1s 3ms/step - loss: 0.0260 - accuracy: 0.9972 - val_loss: 0.1061 - val_accuracy: 0.9697\n",
            "Epoch 25/100\n",
            "422/422 [==============================] - 1s 3ms/step - loss: 0.0250 - accuracy: 0.9977 - val_loss: 0.1059 - val_accuracy: 0.9697\n",
            "Epoch 26/100\n",
            "422/422 [==============================] - 1s 3ms/step - loss: 0.0232 - accuracy: 0.9979 - val_loss: 0.1053 - val_accuracy: 0.9702\n",
            "Epoch 27/100\n",
            "422/422 [==============================] - 1s 2ms/step - loss: 0.0228 - accuracy: 0.9979 - val_loss: 0.1054 - val_accuracy: 0.9695\n",
            "Epoch 28/100\n",
            "422/422 [==============================] - 1s 3ms/step - loss: 0.0213 - accuracy: 0.9981 - val_loss: 0.1044 - val_accuracy: 0.9698\n",
            "Epoch 29/100\n",
            "422/422 [==============================] - 1s 2ms/step - loss: 0.0202 - accuracy: 0.9985 - val_loss: 0.1045 - val_accuracy: 0.9698\n",
            "Epoch 30/100\n",
            "422/422 [==============================] - 1s 3ms/step - loss: 0.0203 - accuracy: 0.9982 - val_loss: 0.1038 - val_accuracy: 0.9700\n",
            "Epoch 31/100\n",
            "422/422 [==============================] - 1s 3ms/step - loss: 0.0199 - accuracy: 0.9981 - val_loss: 0.1039 - val_accuracy: 0.9692\n",
            "Epoch 32/100\n",
            "422/422 [==============================] - 1s 3ms/step - loss: 0.0186 - accuracy: 0.9984 - val_loss: 0.1037 - val_accuracy: 0.9698\n",
            "Epoch 33/100\n",
            "422/422 [==============================] - 1s 3ms/step - loss: 0.0180 - accuracy: 0.9986 - val_loss: 0.1032 - val_accuracy: 0.9698\n",
            "Epoch 34/100\n",
            "422/422 [==============================] - 1s 3ms/step - loss: 0.0177 - accuracy: 0.9985 - val_loss: 0.1030 - val_accuracy: 0.9700\n",
            "Epoch 35/100\n",
            "422/422 [==============================] - 1s 3ms/step - loss: 0.0170 - accuracy: 0.9985 - val_loss: 0.1025 - val_accuracy: 0.9703\n",
            "Epoch 36/100\n",
            "422/422 [==============================] - 1s 3ms/step - loss: 0.0167 - accuracy: 0.9985 - val_loss: 0.1022 - val_accuracy: 0.9702\n",
            "Epoch 37/100\n",
            "422/422 [==============================] - 1s 3ms/step - loss: 0.0156 - accuracy: 0.9987 - val_loss: 0.1022 - val_accuracy: 0.9697\n",
            "Epoch 38/100\n",
            "422/422 [==============================] - 1s 3ms/step - loss: 0.0154 - accuracy: 0.9988 - val_loss: 0.1020 - val_accuracy: 0.9705\n",
            "Epoch 39/100\n",
            "422/422 [==============================] - 1s 3ms/step - loss: 0.0151 - accuracy: 0.9989 - val_loss: 0.1019 - val_accuracy: 0.9702\n",
            "Epoch 40/100\n",
            "422/422 [==============================] - 1s 3ms/step - loss: 0.0145 - accuracy: 0.9991 - val_loss: 0.1016 - val_accuracy: 0.9705\n",
            "Epoch 41/100\n",
            "422/422 [==============================] - 1s 3ms/step - loss: 0.0142 - accuracy: 0.9991 - val_loss: 0.1019 - val_accuracy: 0.9700\n",
            "Epoch 42/100\n",
            "422/422 [==============================] - 1s 3ms/step - loss: 0.0131 - accuracy: 0.9993 - val_loss: 0.1010 - val_accuracy: 0.9710\n",
            "Epoch 43/100\n",
            "422/422 [==============================] - 1s 3ms/step - loss: 0.0132 - accuracy: 0.9991 - val_loss: 0.1011 - val_accuracy: 0.9705\n",
            "Epoch 44/100\n",
            "422/422 [==============================] - 1s 2ms/step - loss: 0.0130 - accuracy: 0.9991 - val_loss: 0.1011 - val_accuracy: 0.9710\n",
            "Epoch 45/100\n",
            "422/422 [==============================] - 1s 2ms/step - loss: 0.0135 - accuracy: 0.9989 - val_loss: 0.1011 - val_accuracy: 0.9703\n",
            "Epoch 46/100\n",
            "422/422 [==============================] - 1s 2ms/step - loss: 0.0126 - accuracy: 0.9990 - val_loss: 0.1010 - val_accuracy: 0.9705\n",
            "Epoch 47/100\n",
            "422/422 [==============================] - 1s 3ms/step - loss: 0.0119 - accuracy: 0.9994 - val_loss: 0.1008 - val_accuracy: 0.9710\n",
            "Epoch 48/100\n",
            "422/422 [==============================] - 1s 2ms/step - loss: 0.0114 - accuracy: 0.9993 - val_loss: 0.1002 - val_accuracy: 0.9707\n",
            "Epoch 49/100\n",
            "422/422 [==============================] - 1s 2ms/step - loss: 0.0119 - accuracy: 0.9991 - val_loss: 0.1001 - val_accuracy: 0.9715\n",
            "Epoch 50/100\n",
            "422/422 [==============================] - 1s 3ms/step - loss: 0.0121 - accuracy: 0.9991 - val_loss: 0.1007 - val_accuracy: 0.9700\n",
            "Epoch 51/100\n",
            "422/422 [==============================] - 1s 3ms/step - loss: 0.0107 - accuracy: 0.9994 - val_loss: 0.1004 - val_accuracy: 0.9705\n",
            "Epoch 52/100\n",
            "422/422 [==============================] - 1s 3ms/step - loss: 0.0108 - accuracy: 0.9995 - val_loss: 0.1001 - val_accuracy: 0.9705\n",
            "Epoch 53/100\n",
            "422/422 [==============================] - 1s 3ms/step - loss: 0.0101 - accuracy: 0.9995 - val_loss: 0.0997 - val_accuracy: 0.9715\n",
            "Epoch 54/100\n",
            "422/422 [==============================] - 1s 3ms/step - loss: 0.0103 - accuracy: 0.9995 - val_loss: 0.0999 - val_accuracy: 0.9710\n",
            "Epoch 55/100\n",
            "422/422 [==============================] - 1s 2ms/step - loss: 0.0102 - accuracy: 0.9992 - val_loss: 0.0999 - val_accuracy: 0.9708\n",
            "Epoch 56/100\n",
            "422/422 [==============================] - 1s 3ms/step - loss: 0.0100 - accuracy: 0.9995 - val_loss: 0.1004 - val_accuracy: 0.9707\n",
            "Epoch 57/100\n",
            "422/422 [==============================] - 1s 3ms/step - loss: 0.0097 - accuracy: 0.9994 - val_loss: 0.0998 - val_accuracy: 0.9710\n",
            "Epoch 58/100\n",
            "422/422 [==============================] - 1s 3ms/step - loss: 0.0097 - accuracy: 0.9994 - val_loss: 0.0996 - val_accuracy: 0.9713\n",
            "Epoch 59/100\n",
            "422/422 [==============================] - 1s 3ms/step - loss: 0.0092 - accuracy: 0.9995 - val_loss: 0.0994 - val_accuracy: 0.9718\n",
            "Epoch 60/100\n",
            "422/422 [==============================] - 1s 3ms/step - loss: 0.0092 - accuracy: 0.9995 - val_loss: 0.0994 - val_accuracy: 0.9713\n",
            "Epoch 61/100\n",
            "422/422 [==============================] - 1s 3ms/step - loss: 0.0094 - accuracy: 0.9994 - val_loss: 0.0994 - val_accuracy: 0.9712\n",
            "Epoch 62/100\n",
            "422/422 [==============================] - 1s 3ms/step - loss: 0.0095 - accuracy: 0.9993 - val_loss: 0.0992 - val_accuracy: 0.9708\n",
            "Epoch 63/100\n",
            "422/422 [==============================] - 1s 3ms/step - loss: 0.0089 - accuracy: 0.9995 - val_loss: 0.0991 - val_accuracy: 0.9710\n",
            "Epoch 64/100\n",
            "422/422 [==============================] - 1s 3ms/step - loss: 0.0085 - accuracy: 0.9995 - val_loss: 0.0988 - val_accuracy: 0.9720\n",
            "Epoch 65/100\n",
            "422/422 [==============================] - 1s 3ms/step - loss: 0.0086 - accuracy: 0.9994 - val_loss: 0.0990 - val_accuracy: 0.9713\n",
            "Epoch 66/100\n",
            "422/422 [==============================] - 1s 3ms/step - loss: 0.0082 - accuracy: 0.9995 - val_loss: 0.0992 - val_accuracy: 0.9715\n",
            "Epoch 67/100\n",
            "422/422 [==============================] - 1s 2ms/step - loss: 0.0084 - accuracy: 0.9995 - val_loss: 0.0987 - val_accuracy: 0.9718\n",
            "Epoch 68/100\n",
            "422/422 [==============================] - 1s 2ms/step - loss: 0.0078 - accuracy: 0.9996 - val_loss: 0.0991 - val_accuracy: 0.9717\n",
            "Epoch 69/100\n",
            "422/422 [==============================] - 1s 2ms/step - loss: 0.0077 - accuracy: 0.9998 - val_loss: 0.0992 - val_accuracy: 0.9707\n",
            "Epoch 70/100\n",
            "422/422 [==============================] - 1s 3ms/step - loss: 0.0078 - accuracy: 0.9996 - val_loss: 0.0989 - val_accuracy: 0.9713\n",
            "Epoch 71/100\n",
            "422/422 [==============================] - 1s 3ms/step - loss: 0.0077 - accuracy: 0.9996 - val_loss: 0.0989 - val_accuracy: 0.9715\n",
            "Epoch 72/100\n",
            "422/422 [==============================] - 1s 3ms/step - loss: 0.0082 - accuracy: 0.9995 - val_loss: 0.0986 - val_accuracy: 0.9712\n",
            "Epoch 73/100\n",
            "422/422 [==============================] - 1s 3ms/step - loss: 0.0073 - accuracy: 0.9997 - val_loss: 0.0985 - val_accuracy: 0.9715\n",
            "Epoch 74/100\n",
            "422/422 [==============================] - 1s 3ms/step - loss: 0.0071 - accuracy: 0.9997 - val_loss: 0.0984 - val_accuracy: 0.9718\n",
            "Epoch 75/100\n",
            "422/422 [==============================] - 1s 3ms/step - loss: 0.0072 - accuracy: 0.9998 - val_loss: 0.0983 - val_accuracy: 0.9718\n",
            "Epoch 76/100\n",
            "422/422 [==============================] - 1s 3ms/step - loss: 0.0068 - accuracy: 0.9998 - val_loss: 0.0985 - val_accuracy: 0.9713\n",
            "Epoch 77/100\n",
            "422/422 [==============================] - 1s 3ms/step - loss: 0.0071 - accuracy: 0.9996 - val_loss: 0.0983 - val_accuracy: 0.9715\n",
            "Epoch 78/100\n",
            "422/422 [==============================] - 1s 3ms/step - loss: 0.0069 - accuracy: 0.9997 - val_loss: 0.0984 - val_accuracy: 0.9717\n",
            "Epoch 79/100\n",
            "422/422 [==============================] - 1s 3ms/step - loss: 0.0071 - accuracy: 0.9996 - val_loss: 0.0985 - val_accuracy: 0.9718\n",
            "Epoch 80/100\n",
            "422/422 [==============================] - 1s 3ms/step - loss: 0.0069 - accuracy: 0.9998 - val_loss: 0.0986 - val_accuracy: 0.9712\n",
            "Epoch 81/100\n",
            "422/422 [==============================] - 1s 3ms/step - loss: 0.0065 - accuracy: 0.9998 - val_loss: 0.0984 - val_accuracy: 0.9713\n",
            "Epoch 82/100\n",
            "422/422 [==============================] - 1s 3ms/step - loss: 0.0061 - accuracy: 0.9998 - val_loss: 0.0984 - val_accuracy: 0.9717\n",
            "Epoch 83/100\n",
            "422/422 [==============================] - 1s 3ms/step - loss: 0.0062 - accuracy: 0.9999 - val_loss: 0.0985 - val_accuracy: 0.9710\n",
            "Epoch 84/100\n",
            "422/422 [==============================] - 1s 3ms/step - loss: 0.0063 - accuracy: 0.9998 - val_loss: 0.0983 - val_accuracy: 0.9717\n",
            "Epoch 85/100\n",
            "422/422 [==============================] - 1s 3ms/step - loss: 0.0066 - accuracy: 0.9997 - val_loss: 0.0983 - val_accuracy: 0.9717\n",
            "Epoch 86/100\n",
            "422/422 [==============================] - 1s 3ms/step - loss: 0.0061 - accuracy: 0.9998 - val_loss: 0.0982 - val_accuracy: 0.9720\n",
            "Epoch 87/100\n",
            "422/422 [==============================] - 1s 3ms/step - loss: 0.0061 - accuracy: 0.9998 - val_loss: 0.0979 - val_accuracy: 0.9718\n",
            "Epoch 88/100\n",
            "422/422 [==============================] - 1s 3ms/step - loss: 0.0061 - accuracy: 0.9997 - val_loss: 0.0981 - val_accuracy: 0.9720\n",
            "Epoch 89/100\n",
            "422/422 [==============================] - 1s 3ms/step - loss: 0.0058 - accuracy: 0.9998 - val_loss: 0.0983 - val_accuracy: 0.9717\n",
            "Epoch 90/100\n",
            "422/422 [==============================] - 1s 3ms/step - loss: 0.0060 - accuracy: 0.9998 - val_loss: 0.0981 - val_accuracy: 0.9718\n",
            "Epoch 91/100\n",
            "422/422 [==============================] - 1s 3ms/step - loss: 0.0055 - accuracy: 0.9999 - val_loss: 0.0980 - val_accuracy: 0.9720\n",
            "Epoch 92/100\n",
            "422/422 [==============================] - 1s 3ms/step - loss: 0.0055 - accuracy: 0.9998 - val_loss: 0.0978 - val_accuracy: 0.9720\n",
            "Epoch 93/100\n",
            "422/422 [==============================] - 1s 3ms/step - loss: 0.0057 - accuracy: 0.9998 - val_loss: 0.0978 - val_accuracy: 0.9717\n",
            "Epoch 94/100\n",
            "422/422 [==============================] - 1s 3ms/step - loss: 0.0058 - accuracy: 0.9997 - val_loss: 0.0978 - val_accuracy: 0.9718\n",
            "Epoch 95/100\n",
            "422/422 [==============================] - 1s 3ms/step - loss: 0.0053 - accuracy: 0.9999 - val_loss: 0.0981 - val_accuracy: 0.9712\n",
            "Epoch 96/100\n",
            "422/422 [==============================] - 1s 3ms/step - loss: 0.0056 - accuracy: 0.9998 - val_loss: 0.0977 - val_accuracy: 0.9718\n",
            "Epoch 97/100\n",
            "422/422 [==============================] - 1s 3ms/step - loss: 0.0052 - accuracy: 0.9998 - val_loss: 0.0978 - val_accuracy: 0.9720\n",
            "Epoch 98/100\n",
            "422/422 [==============================] - 1s 3ms/step - loss: 0.0055 - accuracy: 0.9998 - val_loss: 0.0979 - val_accuracy: 0.9717\n",
            "Epoch 99/100\n",
            "422/422 [==============================] - 1s 3ms/step - loss: 0.0052 - accuracy: 0.9998 - val_loss: 0.0980 - val_accuracy: 0.9718\n",
            "Epoch 100/100\n",
            "422/422 [==============================] - 1s 3ms/step - loss: 0.0051 - accuracy: 0.9998 - val_loss: 0.0978 - val_accuracy: 0.9717\n"
          ]
        }
      ],
      "source": [
        "model.compile(optimizer='sgd',loss='categorical_crossentropy',metrics=['accuracy'])\n",
        "history=model.fit(x_tr,y_tr,batch_size=128,epochs=100,verbose=True,validation_split=.1)"
      ]
    },
    {
      "cell_type": "code",
      "execution_count": null,
      "metadata": {
        "colab": {
          "base_uri": "https://localhost:8080/"
        },
        "id": "jMvI8-yJMN22",
        "outputId": "642310dd-28d4-4681-aa89-20a4181da5af"
      },
      "outputs": [
        {
          "name": "stdout",
          "output_type": "stream",
          "text": [
            "313/313 [==============================] - 1s 2ms/step - loss: 0.1167 - accuracy: 0.9656\n"
          ]
        }
      ],
      "source": [
        "loss,accuracy=model.evaluate(x_te,y_te,verbose=True)\n"
      ]
    },
    {
      "cell_type": "code",
      "execution_count": null,
      "metadata": {
        "colab": {
          "base_uri": "https://localhost:8080/",
          "height": 295
        },
        "id": "hHBvR7puMaw1",
        "outputId": "31ee5421-96ef-43a7-b800-13a0f524440c"
      },
      "outputs": [
        {
          "data": {
            "image/png": "[encoded data removed]",
            "text/plain": [
              "<Figure size 432x288 with 1 Axes>"
            ]
          },
          "metadata": {
            "needs_background": "light",
            "tags": []
          },
          "output_type": "display_data"
        }
      ],
      "source": [
        "plt.plot(history.history['accuracy'])\n",
        "plt.plot(history.history['val_accuracy'])\n",
        "plt.title('model_accuracy')\n",
        "plt.ylabel('accuracy')\n",
        "plt.xlabel('epoch')\n",
        "plt.legend(['training','validation'],loc='best')\n",
        "plt.show()"
      ]
    },
    {
      "cell_type": "code",
      "execution_count": null,
      "metadata": {
        "colab": {
          "base_uri": "https://localhost:8080/",
          "height": 295
        },
        "id": "w7nnKapkMbst",
        "outputId": "2c9d3045-fadb-48b1-e267-036b663c1965"
      },
      "outputs": [
        {
          "data": {
            "image/png": "[encoded data removed]",
            "text/plain": [
              "<Figure size 432x288 with 1 Axes>"
            ]
          },
          "metadata": {
            "needs_background": "light",
            "tags": []
          },
          "output_type": "display_data"
        }
      ],
      "source": [
        "plt.plot(history.history['loss'])\n",
        "plt.plot(history.history['val_loss'])\n",
        "plt.title('model_loss')\n",
        "plt.ylabel('loss')\n",
        "plt.xlabel('epoch')\n",
        "plt.legend(['training','validation'],loc='best')\n",
        "plt.show()\n"
      ]
    },
    {
      "cell_type": "code",
      "execution_count": null,
      "metadata": {
        "colab": {
          "base_uri": "https://localhost:8080/"
        },
        "id": "I5vK4p2BMkdF",
        "outputId": "e422394f-cd25-48b5-cb9c-6d4fb3164dc9"
      },
      "outputs": [
        {
          "name": "stdout",
          "output_type": "stream",
          "text": [
            "[[ 971    0    0    1    1    1    4    1    1    0]\n",
            " [   0 1123    2    1    1    1    4    0    3    0]\n",
            " [   6    0  990    6    7    1    3    9    8    2]\n",
            " [   0    0    5  977    0    9    0    7    9    3]\n",
            " [   1    0    3    1  953    0    6    2    2   14]\n",
            " [   8    0    0   16    1  850    8    1    4    4]\n",
            " [   7    3    0    1    5    6  931    2    3    0]\n",
            " [   2    6   15    3    2    0    0  985    1   14]\n",
            " [   3    0    2   16    6    8    5    6  925    3]\n",
            " [   7    6    2    9   18    2    1    9    4  951]]\n"
          ]
        }
      ],
      "source": [
        "y_pred=model.predict(x_te)\n",
        "Y_pred=np.argmax(y_pred,1)\n",
        "Y_test=np.argmax(y_te,1)\n",
        "mat=confusion_matrix(Y_test,Y_pred)\n",
        "print(mat)"
      ]
    },
    {
      "cell_type": "code",
      "execution_count": null,
      "metadata": {
        "id": "M2AlMDb3NdPN"
      },
      "outputs": [],
      "source": []
    },
    {
      "cell_type": "markdown",
      "metadata": {
        "id": "cjzzmu_WN5Lp"
      },
      "source": [
        "# RMSprop"
      ]
    },
    {
      "cell_type": "code",
      "execution_count": null,
      "metadata": {
        "colab": {
          "base_uri": "https://localhost:8080/"
        },
        "id": "zEpKeBgnMkfw",
        "outputId": "81170220-31c4-4f14-a16b-447f534c7052"
      },
      "outputs": [
        {
          "name": "stdout",
          "output_type": "stream",
          "text": [
            "Model: \"sequential_1\"\n",
            "_________________________________________________________________\n",
            "Layer (type)                 Output Shape              Param #   \n",
            "=================================================================\n",
            "dense_2 (Dense)              (None, 2048)              1607680   \n",
            "_________________________________________________________________\n",
            "dense_3 (Dense)              (None, 10)                20490     \n",
            "=================================================================\n",
            "Total params: 1,628,170\n",
            "Trainable params: 1,628,170\n",
            "Non-trainable params: 0\n",
            "_________________________________________________________________\n"
          ]
        }
      ],
      "source": [
        "model1=Sequential()\n",
        "model1.add(Dense(units=2048,activation='sigmoid',input_shape=(image_size,)))\n",
        "model1.add(Dense(units=10,activation='softmax'))\n",
        "\n",
        "model1.summary()"
      ]
    },
    {
      "cell_type": "code",
      "execution_count": null,
      "metadata": {
        "colab": {
          "base_uri": "https://localhost:8080/"
        },
        "id": "_Qy_DGUdN4Dd",
        "outputId": "0f97dcad-81d4-4c51-eee4-1640c1792c8a"
      },
      "outputs": [
        {
          "name": "stdout",
          "output_type": "stream",
          "text": [
            "Epoch 1/100\n",
            "422/422 [==============================] - 2s 4ms/step - loss: 0.5606 - accuracy: 0.8344 - val_loss: 0.1993 - val_accuracy: 0.9410\n",
            "Epoch 2/100\n",
            "422/422 [==============================] - 1s 3ms/step - loss: 0.1981 - accuracy: 0.9404 - val_loss: 0.1442 - val_accuracy: 0.9575\n",
            "Epoch 3/100\n",
            "422/422 [==============================] - 1s 3ms/step - loss: 0.1571 - accuracy: 0.9519 - val_loss: 0.1220 - val_accuracy: 0.9645\n",
            "Epoch 4/100\n",
            "422/422 [==============================] - 1s 3ms/step - loss: 0.1393 - accuracy: 0.9577 - val_loss: 0.1309 - val_accuracy: 0.9633\n",
            "Epoch 5/100\n",
            "422/422 [==============================] - 1s 3ms/step - loss: 0.1256 - accuracy: 0.9632 - val_loss: 0.1042 - val_accuracy: 0.9693\n",
            "Epoch 6/100\n",
            "422/422 [==============================] - 1s 3ms/step - loss: 0.1212 - accuracy: 0.9640 - val_loss: 0.1224 - val_accuracy: 0.9645\n",
            "Epoch 7/100\n",
            "422/422 [==============================] - 1s 3ms/step - loss: 0.1100 - accuracy: 0.9666 - val_loss: 0.0986 - val_accuracy: 0.9722\n",
            "Epoch 8/100\n",
            "422/422 [==============================] - 1s 3ms/step - loss: 0.1014 - accuracy: 0.9688 - val_loss: 0.1103 - val_accuracy: 0.9695\n",
            "Epoch 9/100\n",
            "422/422 [==============================] - 1s 3ms/step - loss: 0.0936 - accuracy: 0.9725 - val_loss: 0.1042 - val_accuracy: 0.9717\n",
            "Epoch 10/100\n",
            "422/422 [==============================] - 1s 3ms/step - loss: 0.0929 - accuracy: 0.9720 - val_loss: 0.0966 - val_accuracy: 0.9752\n",
            "Epoch 11/100\n",
            "422/422 [==============================] - 1s 3ms/step - loss: 0.0905 - accuracy: 0.9722 - val_loss: 0.1113 - val_accuracy: 0.9717\n",
            "Epoch 12/100\n",
            "422/422 [==============================] - 1s 3ms/step - loss: 0.0912 - accuracy: 0.9736 - val_loss: 0.1069 - val_accuracy: 0.9692\n",
            "Epoch 13/100\n",
            "422/422 [==============================] - 1s 3ms/step - loss: 0.0864 - accuracy: 0.9757 - val_loss: 0.0963 - val_accuracy: 0.9728\n",
            "Epoch 14/100\n",
            "422/422 [==============================] - 1s 3ms/step - loss: 0.0765 - accuracy: 0.9765 - val_loss: 0.1075 - val_accuracy: 0.9705\n",
            "Epoch 15/100\n",
            "422/422 [==============================] - 1s 3ms/step - loss: 0.0768 - accuracy: 0.9772 - val_loss: 0.0904 - val_accuracy: 0.9765\n",
            "Epoch 16/100\n",
            "422/422 [==============================] - 1s 3ms/step - loss: 0.0775 - accuracy: 0.9767 - val_loss: 0.1134 - val_accuracy: 0.9698\n",
            "Epoch 17/100\n",
            "422/422 [==============================] - 1s 3ms/step - loss: 0.0743 - accuracy: 0.9767 - val_loss: 0.1167 - val_accuracy: 0.9697\n",
            "Epoch 18/100\n",
            "422/422 [==============================] - 1s 3ms/step - loss: 0.0792 - accuracy: 0.9769 - val_loss: 0.1026 - val_accuracy: 0.9723\n",
            "Epoch 19/100\n",
            "422/422 [==============================] - 1s 3ms/step - loss: 0.0780 - accuracy: 0.9766 - val_loss: 0.0991 - val_accuracy: 0.9738\n",
            "Epoch 20/100\n",
            "422/422 [==============================] - 1s 3ms/step - loss: 0.0736 - accuracy: 0.9775 - val_loss: 0.1090 - val_accuracy: 0.9740\n",
            "Epoch 21/100\n",
            "422/422 [==============================] - 1s 3ms/step - loss: 0.0708 - accuracy: 0.9784 - val_loss: 0.0951 - val_accuracy: 0.9772\n",
            "Epoch 22/100\n",
            "422/422 [==============================] - 1s 3ms/step - loss: 0.0686 - accuracy: 0.9798 - val_loss: 0.1074 - val_accuracy: 0.9745\n",
            "Epoch 23/100\n",
            "422/422 [==============================] - 1s 3ms/step - loss: 0.0724 - accuracy: 0.9794 - val_loss: 0.1109 - val_accuracy: 0.9748\n",
            "Epoch 24/100\n",
            "422/422 [==============================] - 1s 3ms/step - loss: 0.0713 - accuracy: 0.9789 - val_loss: 0.1125 - val_accuracy: 0.9707\n",
            "Epoch 25/100\n",
            "422/422 [==============================] - 1s 3ms/step - loss: 0.0762 - accuracy: 0.9771 - val_loss: 0.1148 - val_accuracy: 0.9733\n",
            "Epoch 26/100\n",
            "422/422 [==============================] - 1s 3ms/step - loss: 0.0665 - accuracy: 0.9807 - val_loss: 0.0926 - val_accuracy: 0.9767\n",
            "Epoch 27/100\n",
            "422/422 [==============================] - 1s 3ms/step - loss: 0.0665 - accuracy: 0.9808 - val_loss: 0.1003 - val_accuracy: 0.9743\n",
            "Epoch 28/100\n",
            "422/422 [==============================] - 1s 3ms/step - loss: 0.0687 - accuracy: 0.9813 - val_loss: 0.1136 - val_accuracy: 0.9727\n",
            "Epoch 29/100\n",
            "422/422 [==============================] - 1s 3ms/step - loss: 0.0687 - accuracy: 0.9798 - val_loss: 0.0998 - val_accuracy: 0.9753\n",
            "Epoch 30/100\n",
            "422/422 [==============================] - 1s 3ms/step - loss: 0.0641 - accuracy: 0.9812 - val_loss: 0.1071 - val_accuracy: 0.9747\n",
            "Epoch 31/100\n",
            "422/422 [==============================] - 1s 3ms/step - loss: 0.0686 - accuracy: 0.9798 - val_loss: 0.1075 - val_accuracy: 0.9737\n",
            "Epoch 32/100\n",
            "422/422 [==============================] - 1s 3ms/step - loss: 0.0603 - accuracy: 0.9824 - val_loss: 0.1058 - val_accuracy: 0.9747\n",
            "Epoch 33/100\n",
            "422/422 [==============================] - 1s 3ms/step - loss: 0.0622 - accuracy: 0.9809 - val_loss: 0.1002 - val_accuracy: 0.9765\n",
            "Epoch 34/100\n",
            "422/422 [==============================] - 1s 3ms/step - loss: 0.0622 - accuracy: 0.9818 - val_loss: 0.0929 - val_accuracy: 0.9775\n",
            "Epoch 35/100\n",
            "422/422 [==============================] - 1s 3ms/step - loss: 0.0564 - accuracy: 0.9838 - val_loss: 0.1422 - val_accuracy: 0.9662\n",
            "Epoch 36/100\n",
            "422/422 [==============================] - 1s 3ms/step - loss: 0.0644 - accuracy: 0.9814 - val_loss: 0.0997 - val_accuracy: 0.9762\n",
            "Epoch 37/100\n",
            "422/422 [==============================] - 1s 3ms/step - loss: 0.0607 - accuracy: 0.9822 - val_loss: 0.1107 - val_accuracy: 0.9757\n",
            "Epoch 38/100\n",
            "422/422 [==============================] - 1s 3ms/step - loss: 0.0613 - accuracy: 0.9815 - val_loss: 0.1018 - val_accuracy: 0.9750\n",
            "Epoch 39/100\n",
            "422/422 [==============================] - 1s 3ms/step - loss: 0.0581 - accuracy: 0.9832 - val_loss: 0.1086 - val_accuracy: 0.9757\n",
            "Epoch 40/100\n",
            "422/422 [==============================] - 1s 3ms/step - loss: 0.0619 - accuracy: 0.9822 - val_loss: 0.1220 - val_accuracy: 0.9732\n",
            "Epoch 41/100\n",
            "422/422 [==============================] - 1s 3ms/step - loss: 0.0592 - accuracy: 0.9821 - val_loss: 0.1154 - val_accuracy: 0.9742\n",
            "Epoch 42/100\n",
            "422/422 [==============================] - 1s 3ms/step - loss: 0.0614 - accuracy: 0.9818 - val_loss: 0.1114 - val_accuracy: 0.9732\n",
            "Epoch 43/100\n",
            "422/422 [==============================] - 1s 3ms/step - loss: 0.0653 - accuracy: 0.9812 - val_loss: 0.1162 - val_accuracy: 0.9743\n",
            "Epoch 44/100\n",
            "422/422 [==============================] - 1s 3ms/step - loss: 0.0635 - accuracy: 0.9815 - val_loss: 0.1056 - val_accuracy: 0.9750\n",
            "Epoch 45/100\n",
            "422/422 [==============================] - 1s 3ms/step - loss: 0.0557 - accuracy: 0.9837 - val_loss: 0.1266 - val_accuracy: 0.9725\n",
            "Epoch 46/100\n",
            "422/422 [==============================] - 1s 3ms/step - loss: 0.0588 - accuracy: 0.9824 - val_loss: 0.1027 - val_accuracy: 0.9763\n",
            "Epoch 47/100\n",
            "422/422 [==============================] - 1s 3ms/step - loss: 0.0625 - accuracy: 0.9830 - val_loss: 0.1131 - val_accuracy: 0.9750\n",
            "Epoch 48/100\n",
            "422/422 [==============================] - 1s 3ms/step - loss: 0.0585 - accuracy: 0.9839 - val_loss: 0.1096 - val_accuracy: 0.9783\n",
            "Epoch 49/100\n",
            "422/422 [==============================] - 1s 3ms/step - loss: 0.0622 - accuracy: 0.9820 - val_loss: 0.1148 - val_accuracy: 0.9765\n",
            "Epoch 50/100\n",
            "422/422 [==============================] - 1s 3ms/step - loss: 0.0601 - accuracy: 0.9828 - val_loss: 0.1023 - val_accuracy: 0.9785\n",
            "Epoch 51/100\n",
            "422/422 [==============================] - 1s 3ms/step - loss: 0.0548 - accuracy: 0.9850 - val_loss: 0.1162 - val_accuracy: 0.9727\n",
            "Epoch 52/100\n",
            "422/422 [==============================] - 1s 3ms/step - loss: 0.0556 - accuracy: 0.9840 - val_loss: 0.1129 - val_accuracy: 0.9740\n",
            "Epoch 53/100\n",
            "422/422 [==============================] - 1s 3ms/step - loss: 0.0568 - accuracy: 0.9836 - val_loss: 0.1046 - val_accuracy: 0.9770\n",
            "Epoch 54/100\n",
            "422/422 [==============================] - 1s 3ms/step - loss: 0.0522 - accuracy: 0.9845 - val_loss: 0.1045 - val_accuracy: 0.9770\n",
            "Epoch 55/100\n",
            "422/422 [==============================] - 1s 3ms/step - loss: 0.0556 - accuracy: 0.9851 - val_loss: 0.1022 - val_accuracy: 0.9785\n",
            "Epoch 56/100\n",
            "422/422 [==============================] - 1s 3ms/step - loss: 0.0567 - accuracy: 0.9843 - val_loss: 0.1021 - val_accuracy: 0.9770\n",
            "Epoch 57/100\n",
            "422/422 [==============================] - 1s 3ms/step - loss: 0.0557 - accuracy: 0.9839 - val_loss: 0.1177 - val_accuracy: 0.9743\n",
            "Epoch 58/100\n",
            "422/422 [==============================] - 1s 3ms/step - loss: 0.0584 - accuracy: 0.9837 - val_loss: 0.1067 - val_accuracy: 0.9758\n",
            "Epoch 59/100\n",
            "422/422 [==============================] - 1s 3ms/step - loss: 0.0533 - accuracy: 0.9854 - val_loss: 0.1001 - val_accuracy: 0.9772\n",
            "Epoch 60/100\n",
            "422/422 [==============================] - 1s 3ms/step - loss: 0.0538 - accuracy: 0.9846 - val_loss: 0.1273 - val_accuracy: 0.9727\n",
            "Epoch 61/100\n",
            "422/422 [==============================] - 1s 3ms/step - loss: 0.0482 - accuracy: 0.9859 - val_loss: 0.1005 - val_accuracy: 0.9763\n",
            "Epoch 62/100\n",
            "422/422 [==============================] - 1s 3ms/step - loss: 0.0539 - accuracy: 0.9852 - val_loss: 0.1126 - val_accuracy: 0.9765\n",
            "Epoch 63/100\n",
            "422/422 [==============================] - 1s 3ms/step - loss: 0.0516 - accuracy: 0.9845 - val_loss: 0.1118 - val_accuracy: 0.9755\n",
            "Epoch 64/100\n",
            "422/422 [==============================] - 1s 3ms/step - loss: 0.0556 - accuracy: 0.9848 - val_loss: 0.1106 - val_accuracy: 0.9740\n",
            "Epoch 65/100\n",
            "422/422 [==============================] - 1s 3ms/step - loss: 0.0537 - accuracy: 0.9840 - val_loss: 0.1287 - val_accuracy: 0.9723\n",
            "Epoch 66/100\n",
            "422/422 [==============================] - 1s 3ms/step - loss: 0.0560 - accuracy: 0.9850 - val_loss: 0.1120 - val_accuracy: 0.9762\n",
            "Epoch 67/100\n",
            "422/422 [==============================] - 1s 3ms/step - loss: 0.0560 - accuracy: 0.9846 - val_loss: 0.1299 - val_accuracy: 0.9737\n",
            "Epoch 68/100\n",
            "422/422 [==============================] - 1s 3ms/step - loss: 0.0484 - accuracy: 0.9862 - val_loss: 0.1223 - val_accuracy: 0.9758\n",
            "Epoch 69/100\n",
            "422/422 [==============================] - 1s 3ms/step - loss: 0.0548 - accuracy: 0.9848 - val_loss: 0.1458 - val_accuracy: 0.9718\n",
            "Epoch 70/100\n",
            "422/422 [==============================] - 1s 3ms/step - loss: 0.0508 - accuracy: 0.9853 - val_loss: 0.1134 - val_accuracy: 0.9768\n",
            "Epoch 71/100\n",
            "422/422 [==============================] - 1s 3ms/step - loss: 0.0524 - accuracy: 0.9846 - val_loss: 0.1114 - val_accuracy: 0.9773\n",
            "Epoch 72/100\n",
            "422/422 [==============================] - 1s 3ms/step - loss: 0.0493 - accuracy: 0.9857 - val_loss: 0.1225 - val_accuracy: 0.9753\n",
            "Epoch 73/100\n",
            "422/422 [==============================] - 1s 3ms/step - loss: 0.0504 - accuracy: 0.9860 - val_loss: 0.1359 - val_accuracy: 0.9738\n",
            "Epoch 74/100\n",
            "422/422 [==============================] - 1s 3ms/step - loss: 0.0536 - accuracy: 0.9847 - val_loss: 0.1231 - val_accuracy: 0.9747\n",
            "Epoch 75/100\n",
            "422/422 [==============================] - 1s 3ms/step - loss: 0.0520 - accuracy: 0.9851 - val_loss: 0.1091 - val_accuracy: 0.9780\n",
            "Epoch 76/100\n",
            "422/422 [==============================] - 1s 3ms/step - loss: 0.0535 - accuracy: 0.9856 - val_loss: 0.1143 - val_accuracy: 0.9768\n",
            "Epoch 77/100\n",
            "422/422 [==============================] - 1s 3ms/step - loss: 0.0547 - accuracy: 0.9847 - val_loss: 0.1192 - val_accuracy: 0.9760\n",
            "Epoch 78/100\n",
            "422/422 [==============================] - 1s 3ms/step - loss: 0.0523 - accuracy: 0.9850 - val_loss: 0.1349 - val_accuracy: 0.9760\n",
            "Epoch 79/100\n",
            "422/422 [==============================] - 1s 3ms/step - loss: 0.0545 - accuracy: 0.9849 - val_loss: 0.1235 - val_accuracy: 0.9760\n",
            "Epoch 80/100\n",
            "422/422 [==============================] - 1s 3ms/step - loss: 0.0508 - accuracy: 0.9852 - val_loss: 0.1238 - val_accuracy: 0.9755\n",
            "Epoch 81/100\n",
            "422/422 [==============================] - 1s 3ms/step - loss: 0.0490 - accuracy: 0.9859 - val_loss: 0.1135 - val_accuracy: 0.9768\n",
            "Epoch 82/100\n",
            "422/422 [==============================] - 1s 3ms/step - loss: 0.0500 - accuracy: 0.9856 - val_loss: 0.1152 - val_accuracy: 0.9762\n",
            "Epoch 83/100\n",
            "422/422 [==============================] - 1s 3ms/step - loss: 0.0516 - accuracy: 0.9859 - val_loss: 0.1106 - val_accuracy: 0.9770\n",
            "Epoch 84/100\n",
            "422/422 [==============================] - 1s 3ms/step - loss: 0.0469 - accuracy: 0.9868 - val_loss: 0.1030 - val_accuracy: 0.9785\n",
            "Epoch 85/100\n",
            "422/422 [==============================] - 1s 3ms/step - loss: 0.0423 - accuracy: 0.9878 - val_loss: 0.1089 - val_accuracy: 0.9765\n",
            "Epoch 86/100\n",
            "422/422 [==============================] - 1s 3ms/step - loss: 0.0484 - accuracy: 0.9865 - val_loss: 0.1130 - val_accuracy: 0.9757\n",
            "Epoch 87/100\n",
            "422/422 [==============================] - 1s 3ms/step - loss: 0.0499 - accuracy: 0.9861 - val_loss: 0.1164 - val_accuracy: 0.9772\n",
            "Epoch 88/100\n",
            "422/422 [==============================] - 1s 3ms/step - loss: 0.0479 - accuracy: 0.9871 - val_loss: 0.1282 - val_accuracy: 0.9738\n",
            "Epoch 89/100\n",
            "422/422 [==============================] - 1s 3ms/step - loss: 0.0483 - accuracy: 0.9867 - val_loss: 0.1385 - val_accuracy: 0.9722\n",
            "Epoch 90/100\n",
            "422/422 [==============================] - 1s 3ms/step - loss: 0.0484 - accuracy: 0.9865 - val_loss: 0.1169 - val_accuracy: 0.9767\n",
            "Epoch 91/100\n",
            "422/422 [==============================] - 1s 3ms/step - loss: 0.0497 - accuracy: 0.9873 - val_loss: 0.1380 - val_accuracy: 0.9723\n",
            "Epoch 92/100\n",
            "422/422 [==============================] - 1s 3ms/step - loss: 0.0439 - accuracy: 0.9875 - val_loss: 0.1260 - val_accuracy: 0.9748\n",
            "Epoch 93/100\n",
            "422/422 [==============================] - 1s 3ms/step - loss: 0.0432 - accuracy: 0.9879 - val_loss: 0.1083 - val_accuracy: 0.9762\n",
            "Epoch 94/100\n",
            "422/422 [==============================] - 1s 3ms/step - loss: 0.0418 - accuracy: 0.9876 - val_loss: 0.1051 - val_accuracy: 0.9777\n",
            "Epoch 95/100\n",
            "422/422 [==============================] - 1s 3ms/step - loss: 0.0496 - accuracy: 0.9857 - val_loss: 0.1131 - val_accuracy: 0.9790\n",
            "Epoch 96/100\n",
            "422/422 [==============================] - 1s 3ms/step - loss: 0.0479 - accuracy: 0.9861 - val_loss: 0.1177 - val_accuracy: 0.9750\n",
            "Epoch 97/100\n",
            "422/422 [==============================] - 1s 3ms/step - loss: 0.0438 - accuracy: 0.9874 - val_loss: 0.1078 - val_accuracy: 0.9753\n",
            "Epoch 98/100\n",
            "422/422 [==============================] - 1s 3ms/step - loss: 0.0455 - accuracy: 0.9876 - val_loss: 0.1379 - val_accuracy: 0.9735\n",
            "Epoch 99/100\n",
            "422/422 [==============================] - 1s 3ms/step - loss: 0.0435 - accuracy: 0.9872 - val_loss: 0.1231 - val_accuracy: 0.9763\n",
            "Epoch 100/100\n",
            "422/422 [==============================] - 1s 3ms/step - loss: 0.0440 - accuracy: 0.9879 - val_loss: 0.1116 - val_accuracy: 0.9753\n"
          ]
        }
      ],
      "source": [
        "model1.compile(optimizer='RMSprop',loss='categorical_crossentropy',metrics=['accuracy'])\n",
        "history=model1.fit(x_tr,y_tr,batch_size=128,epochs=100,verbose=True,validation_split=.1)"
      ]
    },
    {
      "cell_type": "code",
      "execution_count": null,
      "metadata": {
        "colab": {
          "base_uri": "https://localhost:8080/"
        },
        "id": "dbolNcA7OUQd",
        "outputId": "ca9badb9-57cf-4a6b-936a-261edc7f1a79"
      },
      "outputs": [
        {
          "name": "stdout",
          "output_type": "stream",
          "text": [
            "313/313 [==============================] - 1s 2ms/step - loss: 0.1384 - accuracy: 0.9714\n"
          ]
        }
      ],
      "source": [
        "loss,accuracy=model1.evaluate(x_te,y_te,verbose=True)\n"
      ]
    },
    {
      "cell_type": "code",
      "execution_count": null,
      "metadata": {
        "colab": {
          "base_uri": "https://localhost:8080/",
          "height": 295
        },
        "id": "wXlsq4xDOX-d",
        "outputId": "2bda28a8-0dbf-4db9-e54d-9722d98aa4d5"
      },
      "outputs": [
        {
          "data": {
            "image/png": "[encoded data removed]",
            "text/plain": [
              "<Figure size 432x288 with 1 Axes>"
            ]
          },
          "metadata": {
            "needs_background": "light",
            "tags": []
          },
          "output_type": "display_data"
        }
      ],
      "source": [
        "plt.plot(history.history['accuracy'])\n",
        "plt.plot(history.history['val_accuracy'])\n",
        "plt.title('model_accuracy')\n",
        "plt.ylabel('accuracy')\n",
        "plt.xlabel('epoch')\n",
        "plt.legend(['training','validation'],loc='best')\n",
        "plt.show()"
      ]
    },
    {
      "cell_type": "code",
      "execution_count": null,
      "metadata": {
        "colab": {
          "base_uri": "https://localhost:8080/",
          "height": 295
        },
        "id": "lclZJXkkOYzl",
        "outputId": "883a4841-6886-4942-aca0-9d973c35586a"
      },
      "outputs": [
        {
          "data": {
            "image/png": "[encoded data removed]",
            "text/plain": [
              "<Figure size 432x288 with 1 Axes>"
            ]
          },
          "metadata": {
            "needs_background": "light",
            "tags": []
          },
          "output_type": "display_data"
        }
      ],
      "source": [
        "plt.plot(history.history['loss'])\n",
        "plt.plot(history.history['val_loss'])\n",
        "plt.title('model_loss')\n",
        "plt.ylabel('loss')\n",
        "plt.xlabel('epoch')\n",
        "plt.legend(['training','validation'],loc='best')\n",
        "plt.show()\n"
      ]
    },
    {
      "cell_type": "code",
      "execution_count": null,
      "metadata": {
        "colab": {
          "base_uri": "https://localhost:8080/"
        },
        "id": "pekG9jU1Obg9",
        "outputId": "80412983-646f-4764-ee0d-d5d6f63186a1"
      },
      "outputs": [
        {
          "name": "stdout",
          "output_type": "stream",
          "text": [
            "[[ 965    1    1    2    3    3    3    1    1    0]\n",
            " [   0 1121    2    3    0    2    2    2    3    0]\n",
            " [   4    0  971   13    7    5    3   15   13    1]\n",
            " [   0    0    1  984    0   10    1    5    4    5]\n",
            " [   1    1    0    0  969    0    5    0    0    6]\n",
            " [   3    0    0    7    1  874    5    0    1    1]\n",
            " [   4    2    1    1    2   14  932    0    2    0]\n",
            " [   0    1    3    4    3    2    0 1008    0    7]\n",
            " [   7    1    1    7    5   11    4    8  927    3]\n",
            " [   1    2    0    8   17    8    1    7    2  963]]\n"
          ]
        }
      ],
      "source": [
        "y_pred=model1.predict(x_te)\n",
        "Y_pred=np.argmax(y_pred,1)\n",
        "Y_test=np.argmax(y_te,1)\n",
        "mat=confusion_matrix(Y_test,Y_pred)\n",
        "print(mat)"
      ]
    },
    {
      "cell_type": "code",
      "execution_count": null,
      "metadata": {
        "id": "hCKpRpp9OfTt"
      },
      "outputs": [],
      "source": []
    },
    {
      "cell_type": "markdown",
      "metadata": {
        "id": "LsW1EP3HOg8-"
      },
      "source": [
        "# Adam"
      ]
    },
    {
      "cell_type": "code",
      "execution_count": null,
      "metadata": {
        "colab": {
          "base_uri": "https://localhost:8080/"
        },
        "id": "9jAKoGQgOlAO",
        "outputId": "a47946eb-d3f4-4209-f59b-5811fe9d9e17"
      },
      "outputs": [
        {
          "name": "stdout",
          "output_type": "stream",
          "text": [
            "Model: \"sequential_2\"\n",
            "_________________________________________________________________\n",
            "Layer (type)                 Output Shape              Param #   \n",
            "=================================================================\n",
            "dense_4 (Dense)              (None, 2048)              1607680   \n",
            "_________________________________________________________________\n",
            "dense_5 (Dense)              (None, 10)                20490     \n",
            "=================================================================\n",
            "Total params: 1,628,170\n",
            "Trainable params: 1,628,170\n",
            "Non-trainable params: 0\n",
            "_________________________________________________________________\n"
          ]
        }
      ],
      "source": [
        "model2=Sequential()\n",
        "model2.add(Dense(units=2048,activation='sigmoid',input_shape=(image_size,)))\n",
        "model2.add(Dense(units=10,activation='softmax'))\n",
        "\n",
        "model2.summary()"
      ]
    },
    {
      "cell_type": "code",
      "execution_count": null,
      "metadata": {
        "colab": {
          "base_uri": "https://localhost:8080/"
        },
        "id": "zLtykBfOO2Zm",
        "outputId": "dc95a023-ba9a-4016-9d4a-c5be292386a3"
      },
      "outputs": [
        {
          "name": "stdout",
          "output_type": "stream",
          "text": [
            "Epoch 1/100\n",
            "422/422 [==============================] - 2s 3ms/step - loss: 0.4612 - accuracy: 0.8637 - val_loss: 0.2000 - val_accuracy: 0.9460\n",
            "Epoch 2/100\n",
            "422/422 [==============================] - 1s 3ms/step - loss: 0.2340 - accuracy: 0.9340 - val_loss: 0.1656 - val_accuracy: 0.9565\n",
            "Epoch 3/100\n",
            "422/422 [==============================] - 1s 3ms/step - loss: 0.2060 - accuracy: 0.9415 - val_loss: 0.1593 - val_accuracy: 0.9563\n",
            "Epoch 4/100\n",
            "422/422 [==============================] - 1s 3ms/step - loss: 0.1904 - accuracy: 0.9440 - val_loss: 0.1651 - val_accuracy: 0.9532\n",
            "Epoch 5/100\n",
            "422/422 [==============================] - 1s 3ms/step - loss: 0.1811 - accuracy: 0.9476 - val_loss: 0.1437 - val_accuracy: 0.9608\n",
            "Epoch 6/100\n",
            "422/422 [==============================] - 1s 3ms/step - loss: 0.1729 - accuracy: 0.9493 - val_loss: 0.1445 - val_accuracy: 0.9612\n",
            "Epoch 7/100\n",
            "422/422 [==============================] - 1s 3ms/step - loss: 0.1695 - accuracy: 0.9499 - val_loss: 0.1508 - val_accuracy: 0.9547\n",
            "Epoch 8/100\n",
            "422/422 [==============================] - 1s 3ms/step - loss: 0.1553 - accuracy: 0.9532 - val_loss: 0.1381 - val_accuracy: 0.9607\n",
            "Epoch 9/100\n",
            "422/422 [==============================] - 1s 3ms/step - loss: 0.1540 - accuracy: 0.9544 - val_loss: 0.1344 - val_accuracy: 0.9587\n",
            "Epoch 10/100\n",
            "422/422 [==============================] - 1s 3ms/step - loss: 0.1479 - accuracy: 0.9550 - val_loss: 0.1383 - val_accuracy: 0.9595\n",
            "Epoch 11/100\n",
            "422/422 [==============================] - 1s 3ms/step - loss: 0.1381 - accuracy: 0.9581 - val_loss: 0.1288 - val_accuracy: 0.9640\n",
            "Epoch 12/100\n",
            "422/422 [==============================] - 1s 3ms/step - loss: 0.1363 - accuracy: 0.9585 - val_loss: 0.1251 - val_accuracy: 0.9627\n",
            "Epoch 13/100\n",
            "422/422 [==============================] - 1s 3ms/step - loss: 0.1366 - accuracy: 0.9594 - val_loss: 0.1221 - val_accuracy: 0.9663\n",
            "Epoch 14/100\n",
            "422/422 [==============================] - 1s 3ms/step - loss: 0.1297 - accuracy: 0.9605 - val_loss: 0.1236 - val_accuracy: 0.9640\n",
            "Epoch 15/100\n",
            "422/422 [==============================] - 1s 3ms/step - loss: 0.1387 - accuracy: 0.9568 - val_loss: 0.1295 - val_accuracy: 0.9625\n",
            "Epoch 16/100\n",
            "422/422 [==============================] - 1s 3ms/step - loss: 0.1362 - accuracy: 0.9588 - val_loss: 0.1266 - val_accuracy: 0.9623\n",
            "Epoch 17/100\n",
            "422/422 [==============================] - 1s 3ms/step - loss: 0.1302 - accuracy: 0.9604 - val_loss: 0.1187 - val_accuracy: 0.9632\n",
            "Epoch 18/100\n",
            "422/422 [==============================] - 1s 3ms/step - loss: 0.1253 - accuracy: 0.9613 - val_loss: 0.1175 - val_accuracy: 0.9637\n",
            "Epoch 19/100\n",
            "422/422 [==============================] - 1s 3ms/step - loss: 0.1218 - accuracy: 0.9635 - val_loss: 0.1131 - val_accuracy: 0.9667\n",
            "Epoch 20/100\n",
            "422/422 [==============================] - 1s 3ms/step - loss: 0.1157 - accuracy: 0.9641 - val_loss: 0.1120 - val_accuracy: 0.9672\n",
            "Epoch 21/100\n",
            "422/422 [==============================] - 1s 3ms/step - loss: 0.1232 - accuracy: 0.9619 - val_loss: 0.1252 - val_accuracy: 0.9627\n",
            "Epoch 22/100\n",
            "422/422 [==============================] - 1s 3ms/step - loss: 0.1134 - accuracy: 0.9632 - val_loss: 0.1156 - val_accuracy: 0.9650\n",
            "Epoch 23/100\n",
            "422/422 [==============================] - 1s 3ms/step - loss: 0.1181 - accuracy: 0.9633 - val_loss: 0.1276 - val_accuracy: 0.9637\n",
            "Epoch 24/100\n",
            "422/422 [==============================] - 1s 3ms/step - loss: 0.1108 - accuracy: 0.9649 - val_loss: 0.1259 - val_accuracy: 0.9620\n",
            "Epoch 25/100\n",
            "422/422 [==============================] - 1s 3ms/step - loss: 0.1106 - accuracy: 0.9652 - val_loss: 0.1296 - val_accuracy: 0.9633\n",
            "Epoch 26/100\n",
            "422/422 [==============================] - 1s 3ms/step - loss: 0.1102 - accuracy: 0.9657 - val_loss: 0.1135 - val_accuracy: 0.9678\n",
            "Epoch 27/100\n",
            "422/422 [==============================] - 1s 3ms/step - loss: 0.1102 - accuracy: 0.9653 - val_loss: 0.1132 - val_accuracy: 0.9633\n",
            "Epoch 28/100\n",
            "422/422 [==============================] - 1s 3ms/step - loss: 0.1104 - accuracy: 0.9642 - val_loss: 0.1189 - val_accuracy: 0.9642\n",
            "Epoch 29/100\n",
            "422/422 [==============================] - 1s 3ms/step - loss: 0.1056 - accuracy: 0.9670 - val_loss: 0.1208 - val_accuracy: 0.9635\n",
            "Epoch 30/100\n",
            "422/422 [==============================] - 1s 3ms/step - loss: 0.1096 - accuracy: 0.9658 - val_loss: 0.1176 - val_accuracy: 0.9653\n",
            "Epoch 31/100\n",
            "422/422 [==============================] - 1s 3ms/step - loss: 0.1105 - accuracy: 0.9648 - val_loss: 0.1375 - val_accuracy: 0.9597\n",
            "Epoch 32/100\n",
            "422/422 [==============================] - 1s 3ms/step - loss: 0.1149 - accuracy: 0.9634 - val_loss: 0.1093 - val_accuracy: 0.9640\n",
            "Epoch 33/100\n",
            "422/422 [==============================] - 1s 3ms/step - loss: 0.1076 - accuracy: 0.9659 - val_loss: 0.1114 - val_accuracy: 0.9673\n",
            "Epoch 34/100\n",
            "422/422 [==============================] - 1s 3ms/step - loss: 0.0992 - accuracy: 0.9680 - val_loss: 0.1200 - val_accuracy: 0.9642\n",
            "Epoch 35/100\n",
            "422/422 [==============================] - 1s 3ms/step - loss: 0.1047 - accuracy: 0.9669 - val_loss: 0.1216 - val_accuracy: 0.9647\n",
            "Epoch 36/100\n",
            "422/422 [==============================] - 1s 3ms/step - loss: 0.1059 - accuracy: 0.9663 - val_loss: 0.1065 - val_accuracy: 0.9677\n",
            "Epoch 37/100\n",
            "422/422 [==============================] - 1s 3ms/step - loss: 0.0955 - accuracy: 0.9698 - val_loss: 0.1255 - val_accuracy: 0.9648\n",
            "Epoch 38/100\n",
            "422/422 [==============================] - 1s 3ms/step - loss: 0.1055 - accuracy: 0.9659 - val_loss: 0.1216 - val_accuracy: 0.9650\n",
            "Epoch 39/100\n",
            "422/422 [==============================] - 1s 3ms/step - loss: 0.0999 - accuracy: 0.9681 - val_loss: 0.1308 - val_accuracy: 0.9628\n",
            "Epoch 40/100\n",
            "422/422 [==============================] - 1s 3ms/step - loss: 0.0997 - accuracy: 0.9683 - val_loss: 0.1324 - val_accuracy: 0.9608\n",
            "Epoch 41/100\n",
            "422/422 [==============================] - 1s 3ms/step - loss: 0.1007 - accuracy: 0.9671 - val_loss: 0.1128 - val_accuracy: 0.9655\n",
            "Epoch 42/100\n",
            "422/422 [==============================] - 1s 3ms/step - loss: 0.1045 - accuracy: 0.9659 - val_loss: 0.1349 - val_accuracy: 0.9600\n",
            "Epoch 43/100\n",
            "422/422 [==============================] - 1s 3ms/step - loss: 0.1010 - accuracy: 0.9681 - val_loss: 0.1171 - val_accuracy: 0.9652\n",
            "Epoch 44/100\n",
            "422/422 [==============================] - 1s 3ms/step - loss: 0.1024 - accuracy: 0.9672 - val_loss: 0.1178 - val_accuracy: 0.9670\n",
            "Epoch 45/100\n",
            "422/422 [==============================] - 1s 3ms/step - loss: 0.0948 - accuracy: 0.9694 - val_loss: 0.1110 - val_accuracy: 0.9700\n",
            "Epoch 46/100\n",
            "422/422 [==============================] - 1s 3ms/step - loss: 0.1007 - accuracy: 0.9677 - val_loss: 0.1206 - val_accuracy: 0.9665\n",
            "Epoch 47/100\n",
            "422/422 [==============================] - 1s 3ms/step - loss: 0.0956 - accuracy: 0.9702 - val_loss: 0.1130 - val_accuracy: 0.9663\n",
            "Epoch 48/100\n",
            "422/422 [==============================] - 1s 3ms/step - loss: 0.1005 - accuracy: 0.9677 - val_loss: 0.1294 - val_accuracy: 0.9657\n",
            "Epoch 49/100\n",
            "422/422 [==============================] - 1s 3ms/step - loss: 0.0975 - accuracy: 0.9689 - val_loss: 0.1207 - val_accuracy: 0.9683\n",
            "Epoch 50/100\n",
            "422/422 [==============================] - 1s 3ms/step - loss: 0.0979 - accuracy: 0.9697 - val_loss: 0.1255 - val_accuracy: 0.9647\n",
            "Epoch 51/100\n",
            "422/422 [==============================] - 1s 3ms/step - loss: 0.0972 - accuracy: 0.9691 - val_loss: 0.1155 - val_accuracy: 0.9670\n",
            "Epoch 52/100\n",
            "422/422 [==============================] - 1s 3ms/step - loss: 0.0977 - accuracy: 0.9685 - val_loss: 0.1350 - val_accuracy: 0.9608\n",
            "Epoch 53/100\n",
            "422/422 [==============================] - 1s 3ms/step - loss: 0.1039 - accuracy: 0.9677 - val_loss: 0.1212 - val_accuracy: 0.9672\n",
            "Epoch 54/100\n",
            "422/422 [==============================] - 1s 3ms/step - loss: 0.1000 - accuracy: 0.9690 - val_loss: 0.1181 - val_accuracy: 0.9660\n",
            "Epoch 55/100\n",
            "422/422 [==============================] - 1s 3ms/step - loss: 0.0941 - accuracy: 0.9702 - val_loss: 0.1211 - val_accuracy: 0.9655\n",
            "Epoch 56/100\n",
            "422/422 [==============================] - 1s 3ms/step - loss: 0.0918 - accuracy: 0.9698 - val_loss: 0.1233 - val_accuracy: 0.9642\n",
            "Epoch 57/100\n",
            "422/422 [==============================] - 1s 3ms/step - loss: 0.0993 - accuracy: 0.9679 - val_loss: 0.1241 - val_accuracy: 0.9640\n",
            "Epoch 58/100\n",
            "422/422 [==============================] - 1s 3ms/step - loss: 0.0987 - accuracy: 0.9679 - val_loss: 0.1423 - val_accuracy: 0.9612\n",
            "Epoch 59/100\n",
            "422/422 [==============================] - 1s 3ms/step - loss: 0.1063 - accuracy: 0.9669 - val_loss: 0.1257 - val_accuracy: 0.9647\n",
            "Epoch 60/100\n",
            "422/422 [==============================] - 1s 3ms/step - loss: 0.0981 - accuracy: 0.9688 - val_loss: 0.1243 - val_accuracy: 0.9668\n",
            "Epoch 61/100\n",
            "422/422 [==============================] - 1s 3ms/step - loss: 0.0927 - accuracy: 0.9701 - val_loss: 0.1128 - val_accuracy: 0.9715\n",
            "Epoch 62/100\n",
            "422/422 [==============================] - 1s 3ms/step - loss: 0.0891 - accuracy: 0.9714 - val_loss: 0.1216 - val_accuracy: 0.9672\n",
            "Epoch 63/100\n",
            "422/422 [==============================] - 1s 3ms/step - loss: 0.0943 - accuracy: 0.9700 - val_loss: 0.1067 - val_accuracy: 0.9692\n",
            "Epoch 64/100\n",
            "422/422 [==============================] - 1s 3ms/step - loss: 0.0898 - accuracy: 0.9723 - val_loss: 0.1220 - val_accuracy: 0.9652\n",
            "Epoch 65/100\n",
            "422/422 [==============================] - 1s 3ms/step - loss: 0.0960 - accuracy: 0.9688 - val_loss: 0.1141 - val_accuracy: 0.9687\n",
            "Epoch 66/100\n",
            "422/422 [==============================] - 1s 3ms/step - loss: 0.0919 - accuracy: 0.9701 - val_loss: 0.1058 - val_accuracy: 0.9720\n",
            "Epoch 67/100\n",
            "422/422 [==============================] - 1s 3ms/step - loss: 0.0913 - accuracy: 0.9710 - val_loss: 0.1220 - val_accuracy: 0.9697\n",
            "Epoch 68/100\n",
            "422/422 [==============================] - 1s 3ms/step - loss: 0.0869 - accuracy: 0.9733 - val_loss: 0.1172 - val_accuracy: 0.9668\n",
            "Epoch 69/100\n",
            "422/422 [==============================] - 1s 3ms/step - loss: 0.0921 - accuracy: 0.9703 - val_loss: 0.1291 - val_accuracy: 0.9623\n",
            "Epoch 70/100\n",
            "422/422 [==============================] - 1s 3ms/step - loss: 0.0943 - accuracy: 0.9698 - val_loss: 0.1241 - val_accuracy: 0.9647\n",
            "Epoch 71/100\n",
            "422/422 [==============================] - 1s 3ms/step - loss: 0.0938 - accuracy: 0.9691 - val_loss: 0.1173 - val_accuracy: 0.9657\n",
            "Epoch 72/100\n",
            "422/422 [==============================] - 1s 3ms/step - loss: 0.0908 - accuracy: 0.9718 - val_loss: 0.1196 - val_accuracy: 0.9682\n",
            "Epoch 73/100\n",
            "422/422 [==============================] - 1s 3ms/step - loss: 0.0913 - accuracy: 0.9712 - val_loss: 0.1135 - val_accuracy: 0.9687\n",
            "Epoch 74/100\n",
            "422/422 [==============================] - 1s 3ms/step - loss: 0.0852 - accuracy: 0.9724 - val_loss: 0.1165 - val_accuracy: 0.9657\n",
            "Epoch 75/100\n",
            "422/422 [==============================] - 1s 3ms/step - loss: 0.0883 - accuracy: 0.9722 - val_loss: 0.1210 - val_accuracy: 0.9678\n",
            "Epoch 76/100\n",
            "422/422 [==============================] - 1s 3ms/step - loss: 0.0915 - accuracy: 0.9718 - val_loss: 0.1180 - val_accuracy: 0.9677\n",
            "Epoch 77/100\n",
            "422/422 [==============================] - 1s 3ms/step - loss: 0.0867 - accuracy: 0.9720 - val_loss: 0.1134 - val_accuracy: 0.9668\n",
            "Epoch 78/100\n",
            "422/422 [==============================] - 1s 3ms/step - loss: 0.0947 - accuracy: 0.9703 - val_loss: 0.1182 - val_accuracy: 0.9657\n",
            "Epoch 79/100\n",
            "422/422 [==============================] - 1s 3ms/step - loss: 0.0818 - accuracy: 0.9737 - val_loss: 0.1136 - val_accuracy: 0.9708\n",
            "Epoch 80/100\n",
            "422/422 [==============================] - 1s 3ms/step - loss: 0.0849 - accuracy: 0.9731 - val_loss: 0.1072 - val_accuracy: 0.9703\n",
            "Epoch 81/100\n",
            "422/422 [==============================] - 1s 3ms/step - loss: 0.0775 - accuracy: 0.9749 - val_loss: 0.1144 - val_accuracy: 0.9687\n",
            "Epoch 82/100\n",
            "422/422 [==============================] - 1s 3ms/step - loss: 0.0844 - accuracy: 0.9728 - val_loss: 0.1125 - val_accuracy: 0.9683\n",
            "Epoch 83/100\n",
            "422/422 [==============================] - 1s 3ms/step - loss: 0.0832 - accuracy: 0.9727 - val_loss: 0.1174 - val_accuracy: 0.9667\n",
            "Epoch 84/100\n",
            "422/422 [==============================] - 1s 3ms/step - loss: 0.0862 - accuracy: 0.9713 - val_loss: 0.1072 - val_accuracy: 0.9697\n",
            "Epoch 85/100\n",
            "422/422 [==============================] - 1s 3ms/step - loss: 0.0782 - accuracy: 0.9745 - val_loss: 0.1258 - val_accuracy: 0.9633\n",
            "Epoch 86/100\n",
            "422/422 [==============================] - 1s 3ms/step - loss: 0.0789 - accuracy: 0.9744 - val_loss: 0.1095 - val_accuracy: 0.9703\n",
            "Epoch 87/100\n",
            "422/422 [==============================] - 1s 3ms/step - loss: 0.0753 - accuracy: 0.9755 - val_loss: 0.1098 - val_accuracy: 0.9703\n",
            "Epoch 88/100\n",
            "422/422 [==============================] - 1s 3ms/step - loss: 0.0818 - accuracy: 0.9751 - val_loss: 0.1116 - val_accuracy: 0.9678\n",
            "Epoch 89/100\n",
            "422/422 [==============================] - 1s 3ms/step - loss: 0.0735 - accuracy: 0.9772 - val_loss: 0.0987 - val_accuracy: 0.9718\n",
            "Epoch 90/100\n",
            "422/422 [==============================] - 1s 3ms/step - loss: 0.0780 - accuracy: 0.9755 - val_loss: 0.1028 - val_accuracy: 0.9725\n",
            "Epoch 91/100\n",
            "422/422 [==============================] - 1s 3ms/step - loss: 0.0860 - accuracy: 0.9724 - val_loss: 0.1136 - val_accuracy: 0.9677\n",
            "Epoch 92/100\n",
            "422/422 [==============================] - 1s 3ms/step - loss: 0.0848 - accuracy: 0.9729 - val_loss: 0.1203 - val_accuracy: 0.9652\n",
            "Epoch 93/100\n",
            "422/422 [==============================] - 1s 3ms/step - loss: 0.0753 - accuracy: 0.9757 - val_loss: 0.1100 - val_accuracy: 0.9730\n",
            "Epoch 94/100\n",
            "422/422 [==============================] - 1s 3ms/step - loss: 0.0826 - accuracy: 0.9732 - val_loss: 0.1084 - val_accuracy: 0.9720\n",
            "Epoch 95/100\n",
            "422/422 [==============================] - 1s 3ms/step - loss: 0.0829 - accuracy: 0.9742 - val_loss: 0.1127 - val_accuracy: 0.9718\n",
            "Epoch 96/100\n",
            "422/422 [==============================] - 1s 3ms/step - loss: 0.0846 - accuracy: 0.9728 - val_loss: 0.1212 - val_accuracy: 0.9682\n",
            "Epoch 97/100\n",
            "422/422 [==============================] - 1s 3ms/step - loss: 0.0796 - accuracy: 0.9750 - val_loss: 0.1188 - val_accuracy: 0.9702\n",
            "Epoch 98/100\n",
            "422/422 [==============================] - 1s 3ms/step - loss: 0.0785 - accuracy: 0.9751 - val_loss: 0.1216 - val_accuracy: 0.9677\n",
            "Epoch 99/100\n",
            "422/422 [==============================] - 1s 3ms/step - loss: 0.0800 - accuracy: 0.9750 - val_loss: 0.1063 - val_accuracy: 0.9703\n",
            "Epoch 100/100\n",
            "422/422 [==============================] - 1s 3ms/step - loss: 0.0813 - accuracy: 0.9735 - val_loss: 0.1047 - val_accuracy: 0.9703\n"
          ]
        }
      ],
      "source": [
        "model2.compile(optimizer='Adam',loss='categorical_crossentropy',metrics=['accuracy'])\n",
        "history=model2.fit(x_tr,y_tr,batch_size=128,epochs=100,verbose=True,validation_split=.1)"
      ]
    },
    {
      "cell_type": "code",
      "execution_count": null,
      "metadata": {
        "colab": {
          "base_uri": "https://localhost:8080/"
        },
        "id": "oZI4oEY4PH47",
        "outputId": "72ffa4a9-b45e-48c7-981d-637c06e908e3"
      },
      "outputs": [
        {
          "name": "stdout",
          "output_type": "stream",
          "text": [
            "313/313 [==============================] - 1s 2ms/step - loss: 0.1130 - accuracy: 0.9676\n"
          ]
        }
      ],
      "source": [
        "loss,accuracy=model2.evaluate(x_te,y_te,verbose=True)\n"
      ]
    },
    {
      "cell_type": "code",
      "execution_count": null,
      "metadata": {
        "colab": {
          "base_uri": "https://localhost:8080/",
          "height": 295
        },
        "id": "4nwn-X9tPIbr",
        "outputId": "88994f5d-f0b5-4dcb-8b2b-48c432a30aa5"
      },
      "outputs": [
        {
          "data": {
            "image/png": "[encoded data removed]",
            "text/plain": [
              "<Figure size 432x288 with 1 Axes>"
            ]
          },
          "metadata": {
            "needs_background": "light",
            "tags": []
          },
          "output_type": "display_data"
        }
      ],
      "source": [
        "plt.plot(history.history['accuracy'])\n",
        "plt.plot(history.history['val_accuracy'])\n",
        "plt.title('model_accuracy')\n",
        "plt.ylabel('accuracy')\n",
        "plt.xlabel('epoch')\n",
        "plt.legend(['training','validation'],loc='best')\n",
        "plt.show()"
      ]
    },
    {
      "cell_type": "code",
      "execution_count": null,
      "metadata": {
        "colab": {
          "base_uri": "https://localhost:8080/",
          "height": 295
        },
        "id": "Hfy3V9eYPIfa",
        "outputId": "806796ec-e4b0-4b40-8b4b-d7f3fe0dcd59"
      },
      "outputs": [
        {
          "data": {
            "image/png": "[encoded data removed]",
            "text/plain": [
              "<Figure size 432x288 with 1 Axes>"
            ]
          },
          "metadata": {
            "needs_background": "light",
            "tags": []
          },
          "output_type": "display_data"
        }
      ],
      "source": [
        "plt.plot(history.history['loss'])\n",
        "plt.plot(history.history['val_loss'])\n",
        "plt.title('model_loss')\n",
        "plt.ylabel('loss')\n",
        "plt.xlabel('epoch')\n",
        "plt.legend(['training','validation'],loc='best')\n",
        "plt.show()\n"
      ]
    },
    {
      "cell_type": "code",
      "execution_count": null,
      "metadata": {
        "colab": {
          "base_uri": "https://localhost:8080/"
        },
        "id": "z4L6r8OwPNVd",
        "outputId": "fd175f9d-d26f-477a-cfc0-ebb4a97c7d6d"
      },
      "outputs": [
        {
          "name": "stdout",
          "output_type": "stream",
          "text": [
            "[[ 970    0    0    0    1    1    3    2    3    0]\n",
            " [   0 1114    2    1    0    1    4    3   10    0]\n",
            " [   7    1  992    4    4    0    5   10    9    0]\n",
            " [   2    0    9  957    0   12    1   10    9   10]\n",
            " [   1    0    4    0  945    0    7    2    3   20]\n",
            " [   4    0    0    8    2  863    9    1    4    1]\n",
            " [   6    1    1    0    3   10  934    0    2    1]\n",
            " [   1    1    6    4    1    0    0 1001    1   13]\n",
            " [   7    0    4    9    4    7    5    5  926    7]\n",
            " [   3    3    1    4   11    5    1    6    1  974]]\n"
          ]
        }
      ],
      "source": [
        "y_pred=model2.predict(x_te)\n",
        "Y_pred=np.argmax(y_pred,1)\n",
        "Y_test=np.argmax(y_te,1)\n",
        "mat=confusion_matrix(Y_test,Y_pred)\n",
        "print(mat)"
      ]
    },
    {
      "cell_type": "code",
      "execution_count": null,
      "metadata": {
        "id": "QhMRLOTRPT7O"
      },
      "outputs": [],
      "source": []
    },
    {
      "cell_type": "code",
      "execution_count": null,
      "metadata": {
        "id": "gClBehFcP2FJ"
      },
      "outputs": [],
      "source": []
    },
    {
      "cell_type": "markdown",
      "metadata": {
        "id": "s5UYIIFgPspl"
      },
      "source": [
        "# Adagrad"
      ]
    },
    {
      "cell_type": "code",
      "execution_count": null,
      "metadata": {
        "colab": {
          "base_uri": "https://localhost:8080/"
        },
        "id": "gLKue_vlPUPd",
        "outputId": "9d70b841-d4b7-4b58-d910-7d0f170be38a"
      },
      "outputs": [
        {
          "name": "stdout",
          "output_type": "stream",
          "text": [
            "Model: \"sequential_3\"\n",
            "_________________________________________________________________\n",
            "Layer (type)                 Output Shape              Param #   \n",
            "=================================================================\n",
            "dense_6 (Dense)              (None, 2048)              1607680   \n",
            "_________________________________________________________________\n",
            "dense_7 (Dense)              (None, 10)                20490     \n",
            "=================================================================\n",
            "Total params: 1,628,170\n",
            "Trainable params: 1,628,170\n",
            "Non-trainable params: 0\n",
            "_________________________________________________________________\n"
          ]
        }
      ],
      "source": [
        "model3=Sequential()\n",
        "model3.add(Dense(units=2048,activation='sigmoid',input_shape=(image_size,)))\n",
        "model3.add(Dense(units=10,activation='softmax'))\n",
        "\n",
        "model3.summary()"
      ]
    },
    {
      "cell_type": "code",
      "execution_count": null,
      "metadata": {
        "colab": {
          "base_uri": "https://localhost:8080/"
        },
        "id": "6XpnThw6PZcg",
        "outputId": "026fa06c-3d07-4394-c942-2815a6a4e5ea"
      },
      "outputs": [
        {
          "name": "stdout",
          "output_type": "stream",
          "text": [
            "Epoch 1/100\n",
            "422/422 [==============================] - 1s 3ms/step - loss: 1.1703 - accuracy: 0.6637 - val_loss: 0.4005 - val_accuracy: 0.9113\n",
            "Epoch 2/100\n",
            "422/422 [==============================] - 1s 3ms/step - loss: 0.4298 - accuracy: 0.8933 - val_loss: 0.3086 - val_accuracy: 0.9273\n",
            "Epoch 3/100\n",
            "422/422 [==============================] - 1s 3ms/step - loss: 0.3359 - accuracy: 0.9165 - val_loss: 0.2701 - val_accuracy: 0.9338\n",
            "Epoch 4/100\n",
            "422/422 [==============================] - 1s 2ms/step - loss: 0.2972 - accuracy: 0.9235 - val_loss: 0.2497 - val_accuracy: 0.9398\n",
            "Epoch 5/100\n",
            "422/422 [==============================] - 1s 3ms/step - loss: 0.2624 - accuracy: 0.9327 - val_loss: 0.2340 - val_accuracy: 0.9428\n",
            "Epoch 6/100\n",
            "422/422 [==============================] - 1s 3ms/step - loss: 0.2398 - accuracy: 0.9389 - val_loss: 0.2230 - val_accuracy: 0.9450\n",
            "Epoch 7/100\n",
            "422/422 [==============================] - 1s 2ms/step - loss: 0.2227 - accuracy: 0.9442 - val_loss: 0.2156 - val_accuracy: 0.9460\n",
            "Epoch 8/100\n",
            "422/422 [==============================] - 1s 2ms/step - loss: 0.2124 - accuracy: 0.9474 - val_loss: 0.2089 - val_accuracy: 0.9483\n",
            "Epoch 9/100\n",
            "422/422 [==============================] - 1s 3ms/step - loss: 0.1963 - accuracy: 0.9517 - val_loss: 0.2030 - val_accuracy: 0.9495\n",
            "Epoch 10/100\n",
            "422/422 [==============================] - 1s 3ms/step - loss: 0.1839 - accuracy: 0.9565 - val_loss: 0.1982 - val_accuracy: 0.9500\n",
            "Epoch 11/100\n",
            "422/422 [==============================] - 1s 3ms/step - loss: 0.1774 - accuracy: 0.9579 - val_loss: 0.1943 - val_accuracy: 0.9515\n",
            "Epoch 12/100\n",
            "422/422 [==============================] - 1s 3ms/step - loss: 0.1706 - accuracy: 0.9607 - val_loss: 0.1908 - val_accuracy: 0.9518\n",
            "Epoch 13/100\n",
            "422/422 [==============================] - 1s 3ms/step - loss: 0.1635 - accuracy: 0.9630 - val_loss: 0.1877 - val_accuracy: 0.9520\n",
            "Epoch 14/100\n",
            "422/422 [==============================] - 1s 3ms/step - loss: 0.1593 - accuracy: 0.9631 - val_loss: 0.1844 - val_accuracy: 0.9522\n",
            "Epoch 15/100\n",
            "422/422 [==============================] - 1s 3ms/step - loss: 0.1474 - accuracy: 0.9667 - val_loss: 0.1824 - val_accuracy: 0.9518\n",
            "Epoch 16/100\n",
            "422/422 [==============================] - 1s 3ms/step - loss: 0.1470 - accuracy: 0.9676 - val_loss: 0.1799 - val_accuracy: 0.9523\n",
            "Epoch 17/100\n",
            "422/422 [==============================] - 1s 3ms/step - loss: 0.1412 - accuracy: 0.9696 - val_loss: 0.1772 - val_accuracy: 0.9532\n",
            "Epoch 18/100\n",
            "422/422 [==============================] - 1s 2ms/step - loss: 0.1369 - accuracy: 0.9700 - val_loss: 0.1759 - val_accuracy: 0.9540\n",
            "Epoch 19/100\n",
            "422/422 [==============================] - 1s 2ms/step - loss: 0.1337 - accuracy: 0.9712 - val_loss: 0.1738 - val_accuracy: 0.9535\n",
            "Epoch 20/100\n",
            "422/422 [==============================] - 1s 2ms/step - loss: 0.1329 - accuracy: 0.9721 - val_loss: 0.1722 - val_accuracy: 0.9535\n",
            "Epoch 21/100\n",
            "422/422 [==============================] - 1s 3ms/step - loss: 0.1251 - accuracy: 0.9741 - val_loss: 0.1703 - val_accuracy: 0.9542\n",
            "Epoch 22/100\n",
            "422/422 [==============================] - 1s 3ms/step - loss: 0.1217 - accuracy: 0.9754 - val_loss: 0.1688 - val_accuracy: 0.9548\n",
            "Epoch 23/100\n",
            "422/422 [==============================] - 1s 3ms/step - loss: 0.1224 - accuracy: 0.9755 - val_loss: 0.1672 - val_accuracy: 0.9550\n",
            "Epoch 24/100\n",
            "422/422 [==============================] - 1s 3ms/step - loss: 0.1167 - accuracy: 0.9765 - val_loss: 0.1662 - val_accuracy: 0.9555\n",
            "Epoch 25/100\n",
            "422/422 [==============================] - 1s 2ms/step - loss: 0.1175 - accuracy: 0.9760 - val_loss: 0.1647 - val_accuracy: 0.9553\n",
            "Epoch 26/100\n",
            "422/422 [==============================] - 1s 3ms/step - loss: 0.1134 - accuracy: 0.9780 - val_loss: 0.1635 - val_accuracy: 0.9555\n",
            "Epoch 27/100\n",
            "422/422 [==============================] - 1s 2ms/step - loss: 0.1094 - accuracy: 0.9784 - val_loss: 0.1625 - val_accuracy: 0.9560\n",
            "Epoch 28/100\n",
            "422/422 [==============================] - 1s 3ms/step - loss: 0.1043 - accuracy: 0.9806 - val_loss: 0.1614 - val_accuracy: 0.9568\n",
            "Epoch 29/100\n",
            "422/422 [==============================] - 1s 2ms/step - loss: 0.1047 - accuracy: 0.9805 - val_loss: 0.1601 - val_accuracy: 0.9562\n",
            "Epoch 30/100\n",
            "422/422 [==============================] - 1s 3ms/step - loss: 0.1030 - accuracy: 0.9794 - val_loss: 0.1595 - val_accuracy: 0.9563\n",
            "Epoch 31/100\n",
            "422/422 [==============================] - 1s 3ms/step - loss: 0.1014 - accuracy: 0.9810 - val_loss: 0.1584 - val_accuracy: 0.9575\n",
            "Epoch 32/100\n",
            "422/422 [==============================] - 1s 3ms/step - loss: 0.1011 - accuracy: 0.9806 - val_loss: 0.1573 - val_accuracy: 0.9573\n",
            "Epoch 33/100\n",
            "422/422 [==============================] - 1s 3ms/step - loss: 0.0985 - accuracy: 0.9812 - val_loss: 0.1567 - val_accuracy: 0.9577\n",
            "Epoch 34/100\n",
            "422/422 [==============================] - 1s 3ms/step - loss: 0.0977 - accuracy: 0.9818 - val_loss: 0.1557 - val_accuracy: 0.9578\n",
            "Epoch 35/100\n",
            "422/422 [==============================] - 1s 3ms/step - loss: 0.0937 - accuracy: 0.9825 - val_loss: 0.1552 - val_accuracy: 0.9580\n",
            "Epoch 36/100\n",
            "422/422 [==============================] - 1s 3ms/step - loss: 0.0910 - accuracy: 0.9840 - val_loss: 0.1542 - val_accuracy: 0.9582\n",
            "Epoch 37/100\n",
            "422/422 [==============================] - 1s 3ms/step - loss: 0.0922 - accuracy: 0.9830 - val_loss: 0.1534 - val_accuracy: 0.9585\n",
            "Epoch 38/100\n",
            "422/422 [==============================] - 1s 3ms/step - loss: 0.0905 - accuracy: 0.9834 - val_loss: 0.1528 - val_accuracy: 0.9587\n",
            "Epoch 39/100\n",
            "422/422 [==============================] - 1s 3ms/step - loss: 0.0871 - accuracy: 0.9850 - val_loss: 0.1524 - val_accuracy: 0.9588\n",
            "Epoch 40/100\n",
            "422/422 [==============================] - 1s 3ms/step - loss: 0.0864 - accuracy: 0.9848 - val_loss: 0.1518 - val_accuracy: 0.9588\n",
            "Epoch 41/100\n",
            "422/422 [==============================] - 1s 3ms/step - loss: 0.0853 - accuracy: 0.9846 - val_loss: 0.1511 - val_accuracy: 0.9588\n",
            "Epoch 42/100\n",
            "422/422 [==============================] - 1s 3ms/step - loss: 0.0833 - accuracy: 0.9857 - val_loss: 0.1501 - val_accuracy: 0.9590\n",
            "Epoch 43/100\n",
            "422/422 [==============================] - 1s 3ms/step - loss: 0.0822 - accuracy: 0.9863 - val_loss: 0.1496 - val_accuracy: 0.9585\n",
            "Epoch 44/100\n",
            "422/422 [==============================] - 1s 2ms/step - loss: 0.0792 - accuracy: 0.9872 - val_loss: 0.1491 - val_accuracy: 0.9590\n",
            "Epoch 45/100\n",
            "422/422 [==============================] - 1s 3ms/step - loss: 0.0809 - accuracy: 0.9855 - val_loss: 0.1485 - val_accuracy: 0.9597\n",
            "Epoch 46/100\n",
            "422/422 [==============================] - 1s 2ms/step - loss: 0.0798 - accuracy: 0.9866 - val_loss: 0.1478 - val_accuracy: 0.9590\n",
            "Epoch 47/100\n",
            "422/422 [==============================] - 1s 3ms/step - loss: 0.0783 - accuracy: 0.9867 - val_loss: 0.1474 - val_accuracy: 0.9592\n",
            "Epoch 48/100\n",
            "422/422 [==============================] - 1s 3ms/step - loss: 0.0772 - accuracy: 0.9870 - val_loss: 0.1468 - val_accuracy: 0.9593\n",
            "Epoch 49/100\n",
            "422/422 [==============================] - 1s 3ms/step - loss: 0.0751 - accuracy: 0.9878 - val_loss: 0.1460 - val_accuracy: 0.9600\n",
            "Epoch 50/100\n",
            "422/422 [==============================] - 1s 3ms/step - loss: 0.0744 - accuracy: 0.9879 - val_loss: 0.1457 - val_accuracy: 0.9600\n",
            "Epoch 51/100\n",
            "422/422 [==============================] - 1s 3ms/step - loss: 0.0745 - accuracy: 0.9882 - val_loss: 0.1454 - val_accuracy: 0.9602\n",
            "Epoch 52/100\n",
            "422/422 [==============================] - 1s 3ms/step - loss: 0.0728 - accuracy: 0.9878 - val_loss: 0.1448 - val_accuracy: 0.9602\n",
            "Epoch 53/100\n",
            "422/422 [==============================] - 1s 3ms/step - loss: 0.0721 - accuracy: 0.9885 - val_loss: 0.1445 - val_accuracy: 0.9603\n",
            "Epoch 54/100\n",
            "422/422 [==============================] - 1s 3ms/step - loss: 0.0700 - accuracy: 0.9886 - val_loss: 0.1438 - val_accuracy: 0.9607\n",
            "Epoch 55/100\n",
            "422/422 [==============================] - 1s 3ms/step - loss: 0.0695 - accuracy: 0.9883 - val_loss: 0.1435 - val_accuracy: 0.9607\n",
            "Epoch 56/100\n",
            "422/422 [==============================] - 1s 3ms/step - loss: 0.0679 - accuracy: 0.9894 - val_loss: 0.1429 - val_accuracy: 0.9602\n",
            "Epoch 57/100\n",
            "422/422 [==============================] - 1s 3ms/step - loss: 0.0677 - accuracy: 0.9899 - val_loss: 0.1428 - val_accuracy: 0.9603\n",
            "Epoch 58/100\n",
            "422/422 [==============================] - 1s 3ms/step - loss: 0.0665 - accuracy: 0.9901 - val_loss: 0.1424 - val_accuracy: 0.9610\n",
            "Epoch 59/100\n",
            "422/422 [==============================] - 1s 3ms/step - loss: 0.0656 - accuracy: 0.9899 - val_loss: 0.1420 - val_accuracy: 0.9605\n",
            "Epoch 60/100\n",
            "422/422 [==============================] - 1s 3ms/step - loss: 0.0663 - accuracy: 0.9898 - val_loss: 0.1417 - val_accuracy: 0.9607\n",
            "Epoch 61/100\n",
            "422/422 [==============================] - 1s 3ms/step - loss: 0.0637 - accuracy: 0.9903 - val_loss: 0.1411 - val_accuracy: 0.9607\n",
            "Epoch 62/100\n",
            "422/422 [==============================] - 1s 3ms/step - loss: 0.0640 - accuracy: 0.9904 - val_loss: 0.1410 - val_accuracy: 0.9610\n",
            "Epoch 63/100\n",
            "422/422 [==============================] - 1s 3ms/step - loss: 0.0631 - accuracy: 0.9905 - val_loss: 0.1405 - val_accuracy: 0.9610\n",
            "Epoch 64/100\n",
            "422/422 [==============================] - 1s 3ms/step - loss: 0.0622 - accuracy: 0.9910 - val_loss: 0.1402 - val_accuracy: 0.9607\n",
            "Epoch 65/100\n",
            "422/422 [==============================] - 1s 3ms/step - loss: 0.0628 - accuracy: 0.9905 - val_loss: 0.1398 - val_accuracy: 0.9608\n",
            "Epoch 66/100\n",
            "422/422 [==============================] - 1s 3ms/step - loss: 0.0615 - accuracy: 0.9909 - val_loss: 0.1396 - val_accuracy: 0.9608\n",
            "Epoch 67/100\n",
            "422/422 [==============================] - 1s 2ms/step - loss: 0.0613 - accuracy: 0.9906 - val_loss: 0.1392 - val_accuracy: 0.9610\n",
            "Epoch 68/100\n",
            "422/422 [==============================] - 1s 3ms/step - loss: 0.0589 - accuracy: 0.9916 - val_loss: 0.1390 - val_accuracy: 0.9608\n",
            "Epoch 69/100\n",
            "422/422 [==============================] - 1s 3ms/step - loss: 0.0595 - accuracy: 0.9909 - val_loss: 0.1389 - val_accuracy: 0.9617\n",
            "Epoch 70/100\n",
            "422/422 [==============================] - 1s 3ms/step - loss: 0.0594 - accuracy: 0.9910 - val_loss: 0.1384 - val_accuracy: 0.9615\n",
            "Epoch 71/100\n",
            "422/422 [==============================] - 1s 2ms/step - loss: 0.0573 - accuracy: 0.9917 - val_loss: 0.1381 - val_accuracy: 0.9620\n",
            "Epoch 72/100\n",
            "422/422 [==============================] - 1s 3ms/step - loss: 0.0581 - accuracy: 0.9918 - val_loss: 0.1375 - val_accuracy: 0.9618\n",
            "Epoch 73/100\n",
            "422/422 [==============================] - 1s 3ms/step - loss: 0.0572 - accuracy: 0.9920 - val_loss: 0.1375 - val_accuracy: 0.9615\n",
            "Epoch 74/100\n",
            "422/422 [==============================] - 1s 3ms/step - loss: 0.0556 - accuracy: 0.9920 - val_loss: 0.1372 - val_accuracy: 0.9617\n",
            "Epoch 75/100\n",
            "422/422 [==============================] - 1s 3ms/step - loss: 0.0554 - accuracy: 0.9919 - val_loss: 0.1369 - val_accuracy: 0.9618\n",
            "Epoch 76/100\n",
            "422/422 [==============================] - 1s 3ms/step - loss: 0.0543 - accuracy: 0.9924 - val_loss: 0.1368 - val_accuracy: 0.9620\n",
            "Epoch 77/100\n",
            "422/422 [==============================] - 1s 3ms/step - loss: 0.0547 - accuracy: 0.9922 - val_loss: 0.1364 - val_accuracy: 0.9622\n",
            "Epoch 78/100\n",
            "422/422 [==============================] - 1s 3ms/step - loss: 0.0551 - accuracy: 0.9918 - val_loss: 0.1361 - val_accuracy: 0.9618\n",
            "Epoch 79/100\n",
            "422/422 [==============================] - 1s 3ms/step - loss: 0.0528 - accuracy: 0.9925 - val_loss: 0.1358 - val_accuracy: 0.9622\n",
            "Epoch 80/100\n",
            "422/422 [==============================] - 1s 3ms/step - loss: 0.0533 - accuracy: 0.9924 - val_loss: 0.1354 - val_accuracy: 0.9620\n",
            "Epoch 81/100\n",
            "422/422 [==============================] - 1s 3ms/step - loss: 0.0522 - accuracy: 0.9928 - val_loss: 0.1353 - val_accuracy: 0.9622\n",
            "Epoch 82/100\n",
            "422/422 [==============================] - 1s 3ms/step - loss: 0.0515 - accuracy: 0.9925 - val_loss: 0.1352 - val_accuracy: 0.9620\n",
            "Epoch 83/100\n",
            "422/422 [==============================] - 1s 3ms/step - loss: 0.0536 - accuracy: 0.9921 - val_loss: 0.1349 - val_accuracy: 0.9623\n",
            "Epoch 84/100\n",
            "422/422 [==============================] - 1s 3ms/step - loss: 0.0518 - accuracy: 0.9929 - val_loss: 0.1346 - val_accuracy: 0.9622\n",
            "Epoch 85/100\n",
            "422/422 [==============================] - 1s 2ms/step - loss: 0.0511 - accuracy: 0.9928 - val_loss: 0.1343 - val_accuracy: 0.9625\n",
            "Epoch 86/100\n",
            "422/422 [==============================] - 1s 3ms/step - loss: 0.0522 - accuracy: 0.9925 - val_loss: 0.1342 - val_accuracy: 0.9627\n",
            "Epoch 87/100\n",
            "422/422 [==============================] - 1s 3ms/step - loss: 0.0502 - accuracy: 0.9930 - val_loss: 0.1341 - val_accuracy: 0.9623\n",
            "Epoch 88/100\n",
            "422/422 [==============================] - 1s 3ms/step - loss: 0.0492 - accuracy: 0.9930 - val_loss: 0.1337 - val_accuracy: 0.9625\n",
            "Epoch 89/100\n",
            "422/422 [==============================] - 1s 3ms/step - loss: 0.0510 - accuracy: 0.9923 - val_loss: 0.1335 - val_accuracy: 0.9627\n",
            "Epoch 90/100\n",
            "422/422 [==============================] - 1s 3ms/step - loss: 0.0478 - accuracy: 0.9935 - val_loss: 0.1333 - val_accuracy: 0.9628\n",
            "Epoch 91/100\n",
            "422/422 [==============================] - 1s 3ms/step - loss: 0.0485 - accuracy: 0.9934 - val_loss: 0.1330 - val_accuracy: 0.9628\n",
            "Epoch 92/100\n",
            "422/422 [==============================] - 1s 3ms/step - loss: 0.0477 - accuracy: 0.9936 - val_loss: 0.1330 - val_accuracy: 0.9627\n",
            "Epoch 93/100\n",
            "422/422 [==============================] - 1s 3ms/step - loss: 0.0470 - accuracy: 0.9933 - val_loss: 0.1329 - val_accuracy: 0.9628\n",
            "Epoch 94/100\n",
            "422/422 [==============================] - 1s 3ms/step - loss: 0.0477 - accuracy: 0.9934 - val_loss: 0.1325 - val_accuracy: 0.9627\n",
            "Epoch 95/100\n",
            "422/422 [==============================] - 1s 3ms/step - loss: 0.0475 - accuracy: 0.9934 - val_loss: 0.1324 - val_accuracy: 0.9632\n",
            "Epoch 96/100\n",
            "422/422 [==============================] - 1s 3ms/step - loss: 0.0453 - accuracy: 0.9938 - val_loss: 0.1323 - val_accuracy: 0.9625\n",
            "Epoch 97/100\n",
            "422/422 [==============================] - 1s 3ms/step - loss: 0.0466 - accuracy: 0.9934 - val_loss: 0.1319 - val_accuracy: 0.9630\n",
            "Epoch 98/100\n",
            "422/422 [==============================] - 1s 3ms/step - loss: 0.0443 - accuracy: 0.9941 - val_loss: 0.1318 - val_accuracy: 0.9632\n",
            "Epoch 99/100\n",
            "422/422 [==============================] - 1s 3ms/step - loss: 0.0458 - accuracy: 0.9938 - val_loss: 0.1316 - val_accuracy: 0.9632\n",
            "Epoch 100/100\n",
            "422/422 [==============================] - 1s 3ms/step - loss: 0.0456 - accuracy: 0.9941 - val_loss: 0.1314 - val_accuracy: 0.9633\n"
          ]
        }
      ],
      "source": [
        "model3.compile(optimizer='Adagrad',loss='categorical_crossentropy',metrics=['accuracy'])\n",
        "history=model3.fit(x_tr,y_tr,batch_size=128,epochs=100,verbose=True,validation_split=.1)"
      ]
    },
    {
      "cell_type": "code",
      "execution_count": null,
      "metadata": {
        "colab": {
          "base_uri": "https://localhost:8080/"
        },
        "id": "VaOMKKMEPgD5",
        "outputId": "f52bdd36-b9d9-415d-e1e6-949c8587a1ff"
      },
      "outputs": [
        {
          "name": "stdout",
          "output_type": "stream",
          "text": [
            "313/313 [==============================] - 1s 2ms/step - loss: 0.1539 - accuracy: 0.9525\n"
          ]
        }
      ],
      "source": [
        "loss,accuracy=model3.evaluate(x_te,y_te,verbose=True)\n"
      ]
    },
    {
      "cell_type": "code",
      "execution_count": null,
      "metadata": {
        "colab": {
          "base_uri": "https://localhost:8080/",
          "height": 295
        },
        "id": "G9VYUZGQPhdW",
        "outputId": "05d8a4fd-cf56-43c6-8e6f-7678a88be814"
      },
      "outputs": [
        {
          "data": {
            "image/png": "[encoded data removed]",
            "text/plain": [
              "<Figure size 432x288 with 1 Axes>"
            ]
          },
          "metadata": {
            "needs_background": "light",
            "tags": []
          },
          "output_type": "display_data"
        }
      ],
      "source": [
        "plt.plot(history.history['accuracy'])\n",
        "plt.plot(history.history['val_accuracy'])\n",
        "plt.title('model_accuracy')\n",
        "plt.ylabel('accuracy')\n",
        "plt.xlabel('epoch')\n",
        "plt.legend(['training','validation'],loc='best')\n",
        "plt.show()"
      ]
    },
    {
      "cell_type": "code",
      "execution_count": null,
      "metadata": {
        "colab": {
          "base_uri": "https://localhost:8080/",
          "height": 295
        },
        "id": "PG1lzLC1PyD9",
        "outputId": "184bd6f7-e398-43e0-bba8-a4ae4e02e72e"
      },
      "outputs": [
        {
          "data": {
            "image/png": "[encoded data removed]",
            "text/plain": [
              "<Figure size 432x288 with 1 Axes>"
            ]
          },
          "metadata": {
            "needs_background": "light",
            "tags": []
          },
          "output_type": "display_data"
        }
      ],
      "source": [
        "plt.plot(history.history['loss'])\n",
        "plt.plot(history.history['val_loss'])\n",
        "plt.title('model_loss')\n",
        "plt.ylabel('loss')\n",
        "plt.xlabel('epoch')\n",
        "plt.legend(['training','validation'],loc='best')\n",
        "plt.show()\n"
      ]
    },
    {
      "cell_type": "code",
      "execution_count": null,
      "metadata": {
        "colab": {
          "base_uri": "https://localhost:8080/"
        },
        "id": "OWnZX3m6PzsW",
        "outputId": "99f64a55-6d84-4143-9a97-18284823b165"
      },
      "outputs": [
        {
          "name": "stdout",
          "output_type": "stream",
          "text": [
            "[[ 967    0    1    2    0    2    5    1    2    0]\n",
            " [   0 1119    2    1    1    1    4    2    5    0]\n",
            " [   7    2  969    9    7    1    8   10   16    3]\n",
            " [   1    0   10  965    2    7    1    7   11    6]\n",
            " [   2    1    4    1  938    0    6    1    6   23]\n",
            " [   7    1    2   22    4  827   10    3   10    6]\n",
            " [  11    3    1    1    8    9  920    2    3    0]\n",
            " [   3    7   18    5    6    1    0  967    1   20]\n",
            " [   4    0    5   14    9    7    8    9  914    4]\n",
            " [   6    7    0   10   18    6    1   13    9  939]]\n"
          ]
        }
      ],
      "source": [
        "y_pred=model3.predict(x_te)\n",
        "Y_pred=np.argmax(y_pred,1)\n",
        "Y_test=np.argmax(y_te,1)\n",
        "mat=confusion_matrix(Y_test,Y_pred)\n",
        "print(mat)"
      ]
    }
  ],
  "metadata": {
    "accelerator": "GPU",
    "colab": {
      "name": "Experiment6.ipynb",
      "provenance": []
    },
    "kernelspec": {
      "display_name": "Python 3",
      "name": "python3"
    }
  },
  "nbformat": 4,
  "nbformat_minor": 0
}
